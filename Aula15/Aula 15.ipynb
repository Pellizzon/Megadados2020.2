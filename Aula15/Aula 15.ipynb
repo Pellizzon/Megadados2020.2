{
 "cells": [
  {
   "cell_type": "markdown",
   "metadata": {},
   "source": [
    "# SQL pré-armazenado: stored procedures, triggers, views\n",
    "\n",
    "Além de armazenar nossos dados em tabelas, os bancos de dados também podem armazenar código SQL na forma de vários tipos de objetos:\n",
    "\n",
    "- **Stored procedures**: procedimentos escritos em SQL, executados através da chamada `CALL`.\n",
    "- **Stored functions**: funções escritas em SQL e que podem ser usadas nas mesmas situações que uma função pré-definida seria usada, como `SUM()` ou `COUNT()`\n",
    "- **Triggers**: Um procedimento que será executado automaticamente quando determinadas condições ocorrem, como `INSERT`, `UPDATE` ou `DELETE` em uma tabela.\n",
    "- **Eventos**: Procedimentos que podem ser executados pelo banco de dados em horários pré-definidos.\n",
    "- **Views**: Diferente dos outros objetos, uma view é como um `SELECT` pré-definido, e resulta em uma tabela virtual.\n",
    "\n",
    "Vamos continuar trabalhando com a base de dados 'emprestimo' da aula 9. Para facilitar a atividade de hoje, vamos começar do zero rodando o script 'emprestimos.sql':\n",
    "\n",
    "```SQL\n",
    "DROP DATABASE IF EXISTS emprestimos;\n",
    "CREATE DATABASE emprestimos;\n",
    "USE emprestimos;\n",
    "\n",
    "CREATE TABLE usuario (\n",
    "    id_usuario INT NOT NULL AUTO_INCREMENT,\n",
    "    nome VARCHAR(80) NOT NULL,\n",
    "    sobrenome VARCHAR(80) NOT NULL,\n",
    "    saldo DECIMAL(30 , 2 ) NOT NULL DEFAULT 0.0,\n",
    "    PRIMARY KEY (id_usuario),\n",
    "    CONSTRAINT c_saldo CHECK (saldo >= 0.0)\n",
    ");\n",
    "\n",
    "CREATE TABLE emprestimo (\n",
    "    id_emprestimo INT NOT NULL AUTO_INCREMENT,\n",
    "    id_credor INT NOT NULL,\n",
    "    id_devedor INT NOT NULL,\n",
    "    valor_atual DECIMAL(30 , 2 ) NOT NULL DEFAULT 0.0,\n",
    "    data_inicio DATETIME NOT NULL DEFAULT CURRENT_TIMESTAMP,\n",
    "    data_modificação DATETIME NOT NULL DEFAULT CURRENT_TIMESTAMP ON UPDATE CURRENT_TIMESTAMP,\n",
    "    PRIMARY KEY (id_emprestimo),\n",
    "    CONSTRAINT fk_credor FOREIGN KEY (id_credor)\n",
    "        REFERENCES usuario (id_usuario),\n",
    "    CONSTRAINT fk_devedor FOREIGN KEY (id_devedor)\n",
    "        REFERENCES usuario (id_usuario),\n",
    "    CONSTRAINT c_valor CHECK (valor_atual >= 0.0)\n",
    ");\n",
    "\n",
    "CREATE TABLE operacao (\n",
    "    id_operacao INT NOT NULL AUTO_INCREMENT,\n",
    "    id_emprestimo INT NOT NULL,\n",
    "    valor DECIMAL(30 , 2 ),\n",
    "    data_operacao DATETIME NOT NULL DEFAULT CURRENT_TIMESTAMP,\n",
    "    PRIMARY KEY (id_operacao),\n",
    "    CONSTRAINT fk_emprestimo FOREIGN KEY (id_emprestimo)\n",
    "        REFERENCES emprestimo (id_emprestimo)\n",
    ");\n",
    "\n",
    "CREATE TABLE movimentacao (\n",
    "    id_movimentacao INT NOT NULL AUTO_INCREMENT,\n",
    "    id_usuario INT NOT NULL,\n",
    "    valor DECIMAL(30 , 2 ),\n",
    "    data_operacao DATETIME NOT NULL DEFAULT CURRENT_TIMESTAMP,\n",
    "    PRIMARY KEY (id_movimentacao),\n",
    "    CONSTRAINT fk_usuario FOREIGN KEY (id_usuario)\n",
    "        REFERENCES usuario (id_usuario)\n",
    ");\n",
    "```\n",
    "\n",
    "Em seguida, vamos abrir a conexão com o banco de dados."
   ]
  },
  {
   "cell_type": "code",
   "execution_count": 1,
   "metadata": {},
   "outputs": [],
   "source": [
    "import mysql.connector\n",
    "from functools import partial\n",
    "\n",
    "\n",
    "def get_connection_helper(database):\n",
    "    def run_db_query(connection, query, args=None):\n",
    "        with connection.cursor() as cursor:\n",
    "            print(\"Executando query:\")\n",
    "            cursor.execute(query, args)\n",
    "            for result in cursor:\n",
    "                print(result)\n",
    "\n",
    "    connection = mysql.connector.connect(\n",
    "        host=\"localhost\",\n",
    "        user=\"megadados\",\n",
    "        password=\"megadados2020\",\n",
    "        database=database,\n",
    "    )\n",
    "    return connection, partial(run_db_query, connection)\n",
    "\n",
    "\n",
    "connection, db = get_connection_helper(\"emprestimos\")"
   ]
  },
  {
   "cell_type": "markdown",
   "metadata": {},
   "source": [
    "## Stored procedures\n",
    "\n",
    "Existem algumas vantagens em procedimentos armazenados (stored procedures):\n",
    "\n",
    "- *Reuso de código*: como em qualquer outra linguagem de programação, podemos construir stored procedures para definir tarefas rotineiras e reutilizá-las em vários workflows.\n",
    "- *Segurança*: Ao invés de oferecer acesso direto à tabelas, podemos bloquear todos os acessos a tabelas e definir acesso à stored procedures! Assim, ao invés de permitir acesso à tabela *usuario*, podemos permitir acesso ao procedimento *saque()* ou *consulta_saldo()*\n",
    "- *Desempenho*: ao invés de mandar vários comandos SQL para a base de dados toda vez que quisermos realizar determinada tarefa, podemos simplesmente chamar um procedimento armazenado, pois todo o código já está na base de dados. Ademais, a base de dados não precisa compilar o procedimento toda vez que este é chamado, basta compilar na primeira execução e manter o código compilado em um cache.\n",
    "\n",
    "Existem também desvantagens:\n",
    "\n",
    "- *Debugging*: pode ser difícil debugar um procedimento armazenado\n",
    "- *Portabilidade*: a sintaxe de definição de stored procedures é raramente portável entre diferentes sistemas de gerenciamento de bancos de dados.\n",
    "- *Separação entre dados e lógica de negócios*: com stored procedures estamos migrando parte da lógica de negócios para o banco de dados. Alterações na lógica agora demandam modificações (e manutenção) em partes distintas da sua aplicação, uma receita para dor de cabeça!\n",
    "- *Aumento da carga de processamento no servidor*: servidores de banco de dados costumam ser otimizados para memória e largura de banda, não para processamento\n",
    "\n",
    "Ou seja, use procedimentos armazenados com cautela!\n",
    "\n",
    "### Interlúdio: o valor da experiência\n",
    "\n",
    "Como você já deve ter percebido à essa altura do curso, você tem um camilho longo pela frente, desde conhecer um conceito novo até dominar o uso deste conceito com sabedoria - isso chama-se ganhar experiência! Não subestime o valor de trabalhar \"nas trincheiras\" aplicando seus conhecimentos novos e aprendendo com a experiência dos veteranos. Além disso, continue se aperfeiçoando - faça cursos para conhecer melhor a tecnologia, invente projetos para tentar novas ideias, assista vídeos no YouTube sobre melhores práticas, busque projetos (e empregos) onde você possa se desenvolver.\n",
    "\n",
    "É impossível formar engenheiros experientes em um curso - mesmo que fossem dois cursos, não cobriríamos tudo que existe sobre banco de dados. Mas estou certo de que vocês adquiriram novas ferramentas neste módulo do curso, e estão capacitados a continuar progredindo em banco de dados.\n",
    "\n",
    "Nós, os professores do Insper, estamos fazendo o possível para transferir a vocês mais do que conhecimento - estamos buscando desenvolver competência também! E para isso só existe um caminho: a prática. Façam exercícios, coloquem esforço nos projetos, e venham preparados para a aula para que possamos ir além da mera leitura do material didático, ok?\n",
    "\n",
    "Voltamos agora à programação regular...\n",
    "\n",
    "### Construindo uma stored procedure\n",
    "\n",
    "Vamos começar com uma stored procedure para adicionar um usuário. Crie e execute o seguinte script no MySQL workbench:\n",
    "\n",
    "```SQL\n",
    "USE emprestimos;\n",
    "\n",
    "DROP PROCEDURE IF EXISTS adiciona_usuario;\n",
    "\n",
    "DELIMITER //\n",
    "CREATE PROCEDURE adiciona_usuario(IN novo_nome VARCHAR(80), IN novo_sobrenome VARCHAR(80))\n",
    "BEGIN\n",
    "    INSERT INTO usuario (nome, sobrenome) VALUES (novo_nome, novo_sobrenome);\n",
    "END//\n",
    "DELIMITER ;\n",
    "```\n",
    "\n",
    "Note o uso destes comandos `DELIMITER`. Coisas de MySQL: ele não entende que os ponto-e-virgula internos ao procedimento não sinalizam o final do comando CREATE PROCEDURE...\n",
    "\n",
    "Agora podemos usar nossa nova procedure para adicionar alguns usuários!"
   ]
  },
  {
   "cell_type": "code",
   "execution_count": 2,
   "metadata": {
    "scrolled": true
   },
   "outputs": [
    {
     "name": "stdout",
     "output_type": "stream",
     "text": [
      "Executando query:\n",
      "Executando query:\n",
      "Executando query:\n",
      "Executando query:\n",
      "Executando query:\n",
      "Executando query:\n",
      "Executando query:\n"
     ]
    }
   ],
   "source": [
    "db(\"START TRANSACTION;\")\n",
    "try:\n",
    "    db(\"CALL adiciona_usuario('Juca', 'Silva');\")\n",
    "    db(\"CALL adiciona_usuario('Mario', 'Ferreira');\")\n",
    "    db(\"CALL adiciona_usuario('Ana', 'Soares');\")\n",
    "    db(\"CALL adiciona_usuario('Antonio', 'Reis');\")\n",
    "    db(\"CALL adiciona_usuario('Paulo', 'Oliveira');\")\n",
    "    db(\"COMMIT;\")\n",
    "except Exception as e:\n",
    "    print(e)\n",
    "    db(\"ROLLBACK\");"
   ]
  },
  {
   "cell_type": "markdown",
   "metadata": {},
   "source": [
    "Vamos verificar se tudo funcionou bem:"
   ]
  },
  {
   "cell_type": "code",
   "execution_count": 2,
   "metadata": {
    "scrolled": true
   },
   "outputs": [
    {
     "name": "stdout",
     "output_type": "stream",
     "text": [
      "Executando query:\n",
      "(1, 'Juca', 'Silva', Decimal('10000.00'))\n",
      "(2, 'Mario', 'Ferreira', Decimal('4000.00'))\n",
      "(3, 'Ana', 'Soares', Decimal('15000.00'))\n",
      "(4, 'Antonio', 'Reis', Decimal('0.00'))\n",
      "(5, 'Paulo', 'Oliveira', Decimal('0.00'))\n"
     ]
    }
   ],
   "source": [
    "db(\"SELECT * FROM usuario\")"
   ]
  },
  {
   "cell_type": "markdown",
   "metadata": {},
   "source": [
    "### Stored functions\n",
    "\n",
    "Agora vamos criar uma função para consultar o saldo. Rode o script a seguir no MySQL Workbench:\n",
    "\n",
    "```SQL\n",
    "USE emprestimos;\n",
    "\n",
    "DROP FUNCTION IF EXISTS saldo;\n",
    "\n",
    "DELIMITER //\n",
    "CREATE FUNCTION saldo(id INT) RETURNS DECIMAL(30, 2) READS SQL DATA\n",
    "BEGIN\n",
    "\tDECLARE saldo_procurado DECIMAL(30, 2);\n",
    "\tSELECT IFNULL(saldo, 0.0) INTO saldo_procurado FROM usuario WHERE id_usuario = id;\n",
    "    RETURN saldo_procurado;\n",
    "END//\n",
    "DELIMITER ;\n",
    "```\n",
    "\n",
    "Vamos testar esta função:"
   ]
  },
  {
   "cell_type": "code",
   "execution_count": 3,
   "metadata": {},
   "outputs": [
    {
     "name": "stdout",
     "output_type": "stream",
     "text": [
      "Executando query:\n",
      "(Decimal('15000.00'),)\n"
     ]
    }
   ],
   "source": [
    "db(\"SELECT saldo(3)\")"
   ]
  },
  {
   "cell_type": "markdown",
   "metadata": {},
   "source": [
    "### Atividades\n",
    "\n",
    "Faça um script SQL que cria uma stored procedure para cobrar uma taxa de manutenção de D dinheiros de cada conta, desde que a conta tenha saldo. (Dica: use a função `IF()`: https://dev.mysql.com/doc/refman/5.7/en/control-flow-functions.html#function_if)"
   ]
  },
  {
   "cell_type": "markdown",
   "metadata": {},
   "source": [
    "**Resposta**:\n",
    "\n",
    "```SQL\n",
    "USE emprestimos;\n",
    "\n",
    "DROP PROCEDURE IF EXISTS cobra_taxa;\n",
    "\n",
    "DELIMITER //\n",
    "CREATE PROCEDURE cobra_taxa(IN taxa DECIMAL(30, 2))\n",
    "BEGIN\n",
    "\tSET @OLD_SQL_SAFE_UPDATES = @@SQL_SAFE_UPDATES;\n",
    "\tSET SQL_SAFE_UPDATES=0;\n",
    "\n",
    "    --- Insira seu código aqui.\n",
    "    UPDATE usuario SET saldo = IF(saldo > taxa, saldo - taxa, 0.0);\n",
    "\n",
    "\tSET SQL_SAFE_UPDATES=@OLD_SQL_SAFE_UPDATES;\n",
    "END //\n",
    "DELIMITER ;\n",
    "```"
   ]
  },
  {
   "cell_type": "markdown",
   "metadata": {},
   "source": [
    "Escreva um código SQL para testar sua procedure:"
   ]
  },
  {
   "cell_type": "markdown",
   "metadata": {},
   "source": [
    "**Resposta:**"
   ]
  },
  {
   "cell_type": "code",
   "execution_count": 4,
   "metadata": {},
   "outputs": [
    {
     "name": "stdout",
     "output_type": "stream",
     "text": [
      "Executando query:\n",
      "Executando query:\n",
      "(1, 'Juca', 'Silva', Decimal('9998.00'))\n",
      "(2, 'Mario', 'Ferreira', Decimal('3998.00'))\n",
      "(3, 'Ana', 'Soares', Decimal('14998.00'))\n",
      "(4, 'Antonio', 'Reis', Decimal('0.00'))\n",
      "(5, 'Paulo', 'Oliveira', Decimal('0.00'))\n"
     ]
    }
   ],
   "source": [
    "db(\"CALL cobra_taxa(2)\")\n",
    "db(\"SELECT * FROM usuario\")"
   ]
  },
  {
   "cell_type": "markdown",
   "metadata": {},
   "source": [
    "Faça uma função que retorna a soma de todos os saldos da base de dados."
   ]
  },
  {
   "cell_type": "markdown",
   "metadata": {},
   "source": [
    "**Resposta**:\n",
    "\n",
    "```SQL\n",
    "USE emprestimos;\n",
    "\n",
    "DROP FUNCTION IF EXISTS total_saldos;\n",
    "\n",
    "DELIMITER //\n",
    "CREATE FUNCTION total_saldos() RETURNS DECIMAL(30, 2) READS SQL DATA\n",
    "BEGIN\n",
    "\n",
    "    -- Insira seu SQL aqui.\n",
    "    DECLARE total DECIMAL(30, 2);\n",
    "    SELECT SUM(saldo) INTO total FROM usuario;\n",
    "    RETURN total;\n",
    "\n",
    "END//\n",
    "DELIMITER ;\n",
    "```"
   ]
  },
  {
   "cell_type": "markdown",
   "metadata": {},
   "source": [
    "Escreva um código SQL para testar sua função:"
   ]
  },
  {
   "cell_type": "markdown",
   "metadata": {},
   "source": [
    "**Resposta:**"
   ]
  },
  {
   "cell_type": "code",
   "execution_count": 5,
   "metadata": {},
   "outputs": [
    {
     "name": "stdout",
     "output_type": "stream",
     "text": [
      "Executando query:\n",
      "(Decimal('28994.00'),)\n"
     ]
    }
   ],
   "source": [
    "db(\"SELECT total_saldos()\")"
   ]
  },
  {
   "cell_type": "markdown",
   "metadata": {},
   "source": [
    "## Triggers\n",
    "\n",
    "*Triggers*, ou gatilhos, são procedimentos armazenados que são executados automaticamente quando uma operação é realizada. Você pode escolher se o trigger ocorre antes ou depois da ação.\n",
    "\n",
    "Vamos fazer um gatilho para atualizar automaticamente o saldo do usuário quando uma nova movimentação é inserida na tabela `movimentacao`. Vamos também criar uma *constraint* para impedir que um saldo negativo exista na nossa base de dados.\n",
    "\n",
    "Bom, rode o script SQL a seguir no MySQL Workbench:\n",
    "\n",
    "```SQL\n",
    "USE emprestimos;\n",
    "\n",
    "DROP TRIGGER IF EXISTS trig_movimentacao;\n",
    "\n",
    "DELIMITER //\n",
    "CREATE TRIGGER trig_movimentacao \n",
    "BEFORE INSERT ON movimentacao\n",
    "FOR EACH ROW\n",
    "BEGIN\n",
    "    UPDATE usuario \n",
    "        SET saldo = saldo + NEW.valor \n",
    "        WHERE id_usuario = NEW.id_usuario;\n",
    "END//\n",
    "```\n",
    "\n",
    "*Interlúdio*: e quanto ao constraint `CHECK`? No MySQL 5.7 o `CHECK` não funcionava, apesar de previsto no padrão SQL. Na versão 8.0 isso foi corrigido.\n",
    "\n",
    "Na documentação do MySQL 5.7 (https://dev.mysql.com/doc/refman/5.7/en/create-table.html) temos o seguinte:\n",
    "\n",
    "    The `CHECK` clause is parsed but ignored by all storage engines. See Section 1.8.2.3, “Foreign Key Differences”.\n",
    "\n",
    "A título de curiosidade: o remédio era criar um trigger para evitar a atualização com valores errados. Veja a gambiarra em ação no código a seguir.\n",
    "\n",
    "```SQL\n",
    "USE emprestimos;\n",
    "\n",
    "DROP TRIGGER IF EXISTS trig_saldo_insuficiente;\n",
    "\n",
    "CREATE TRIGGER trig_saldo_insuficiente \n",
    "BEFORE UPDATE ON usuario\n",
    "FOR EACH ROW\n",
    "BEGIN\n",
    "    -- https://stackoverflow.com/questions/2115497/check-constraint-in-mysql-is-not-working\n",
    "    IF NEW.saldo < 0.0 THEN\n",
    "        SIGNAL SQLSTATE '12345'\n",
    "            SET MESSAGE_TEXT = 'Saldo insuficiente.';\n",
    "    END IF;\n",
    "END//\n",
    "DELIMITER ;\n",
    "```\n",
    "\n",
    "Já na versão atual do MySQL o check de saldo pode ser implementado normalmente com o constraint `CHECK`\n",
    "\n",
    "```SQL\n",
    "USE emprestimos;\n",
    "ALTER TABLE usuario ADD CONSTRAINT chk_saldo CHECK (saldo >= 0.0);\n",
    "ALTER TABLE emprestimo ADD CONSTRAINT chk_emprestimo CHECK (valor_atual >= 0.0);\n",
    "```\n",
    "\n",
    "Vamos testar esse trigger na nossa tabela:"
   ]
  },
  {
   "cell_type": "code",
   "execution_count": 6,
   "metadata": {},
   "outputs": [],
   "source": [
    "def movimentacao(id_usuario, valor):\n",
    "    db(\n",
    "        \"INSERT INTO movimentacao (id_usuario, valor) VALUES (%s, %s)\",\n",
    "        (id_usuario, valor),\n",
    "    )\n",
    "    db(\"SELECT * FROM usuario WHERE id_usuario=%s\", (id_usuario,))"
   ]
  },
  {
   "cell_type": "code",
   "execution_count": 7,
   "metadata": {},
   "outputs": [
    {
     "name": "stdout",
     "output_type": "stream",
     "text": [
      "Executando query:\n",
      "Executando query:\n",
      "Executando query:\n",
      "(1, 'Juca', 'Silva', Decimal('10998.00'))\n"
     ]
    }
   ],
   "source": [
    "db(\"START TRANSACTION\")\n",
    "movimentacao(1, 1000)"
   ]
  },
  {
   "cell_type": "markdown",
   "metadata": {},
   "source": [
    "Parece ter funcionado... mas antes de executar o `COMMIT`, vamos testar o que acontece quando o saldo ficaria negativo:"
   ]
  },
  {
   "cell_type": "code",
   "execution_count": 8,
   "metadata": {
    "scrolled": true
   },
   "outputs": [
    {
     "name": "stdout",
     "output_type": "stream",
     "text": [
      "Executando query:\n"
     ]
    },
    {
     "ename": "DatabaseError",
     "evalue": "3819 (HY000): Check constraint 'c_saldo' is violated.",
     "output_type": "error",
     "traceback": [
      "\u001b[1;31m---------------------------------------------------------------------------\u001b[0m",
      "\u001b[1;31mDatabaseError\u001b[0m                             Traceback (most recent call last)",
      "\u001b[1;32m<ipython-input-8-a6e1c8c0f836>\u001b[0m in \u001b[0;36m<module>\u001b[1;34m\u001b[0m\n\u001b[1;32m----> 1\u001b[1;33m \u001b[0mmovimentacao\u001b[0m\u001b[1;33m(\u001b[0m\u001b[1;36m1\u001b[0m\u001b[1;33m,\u001b[0m \u001b[1;33m-\u001b[0m\u001b[1;36m20000\u001b[0m\u001b[1;33m)\u001b[0m\u001b[1;33m\u001b[0m\u001b[1;33m\u001b[0m\u001b[0m\n\u001b[0m",
      "\u001b[1;32m<ipython-input-6-24744e59844b>\u001b[0m in \u001b[0;36mmovimentacao\u001b[1;34m(id_usuario, valor)\u001b[0m\n\u001b[0;32m      1\u001b[0m \u001b[1;32mdef\u001b[0m \u001b[0mmovimentacao\u001b[0m\u001b[1;33m(\u001b[0m\u001b[0mid_usuario\u001b[0m\u001b[1;33m,\u001b[0m \u001b[0mvalor\u001b[0m\u001b[1;33m)\u001b[0m\u001b[1;33m:\u001b[0m\u001b[1;33m\u001b[0m\u001b[1;33m\u001b[0m\u001b[0m\n\u001b[1;32m----> 2\u001b[1;33m     db(\n\u001b[0m\u001b[0;32m      3\u001b[0m         \u001b[1;34m\"INSERT INTO movimentacao (id_usuario, valor) VALUES (%s, %s)\"\u001b[0m\u001b[1;33m,\u001b[0m\u001b[1;33m\u001b[0m\u001b[1;33m\u001b[0m\u001b[0m\n\u001b[0;32m      4\u001b[0m         \u001b[1;33m(\u001b[0m\u001b[0mid_usuario\u001b[0m\u001b[1;33m,\u001b[0m \u001b[0mvalor\u001b[0m\u001b[1;33m)\u001b[0m\u001b[1;33m,\u001b[0m\u001b[1;33m\u001b[0m\u001b[1;33m\u001b[0m\u001b[0m\n\u001b[0;32m      5\u001b[0m     )\n",
      "\u001b[1;32m<ipython-input-1-ecef9ad323ee>\u001b[0m in \u001b[0;36mrun_db_query\u001b[1;34m(connection, query, args)\u001b[0m\n\u001b[0;32m      7\u001b[0m         \u001b[1;32mwith\u001b[0m \u001b[0mconnection\u001b[0m\u001b[1;33m.\u001b[0m\u001b[0mcursor\u001b[0m\u001b[1;33m(\u001b[0m\u001b[1;33m)\u001b[0m \u001b[1;32mas\u001b[0m \u001b[0mcursor\u001b[0m\u001b[1;33m:\u001b[0m\u001b[1;33m\u001b[0m\u001b[1;33m\u001b[0m\u001b[0m\n\u001b[0;32m      8\u001b[0m             \u001b[0mprint\u001b[0m\u001b[1;33m(\u001b[0m\u001b[1;34m\"Executando query:\"\u001b[0m\u001b[1;33m)\u001b[0m\u001b[1;33m\u001b[0m\u001b[1;33m\u001b[0m\u001b[0m\n\u001b[1;32m----> 9\u001b[1;33m             \u001b[0mcursor\u001b[0m\u001b[1;33m.\u001b[0m\u001b[0mexecute\u001b[0m\u001b[1;33m(\u001b[0m\u001b[0mquery\u001b[0m\u001b[1;33m,\u001b[0m \u001b[0margs\u001b[0m\u001b[1;33m)\u001b[0m\u001b[1;33m\u001b[0m\u001b[1;33m\u001b[0m\u001b[0m\n\u001b[0m\u001b[0;32m     10\u001b[0m             \u001b[1;32mfor\u001b[0m \u001b[0mresult\u001b[0m \u001b[1;32min\u001b[0m \u001b[0mcursor\u001b[0m\u001b[1;33m:\u001b[0m\u001b[1;33m\u001b[0m\u001b[1;33m\u001b[0m\u001b[0m\n\u001b[0;32m     11\u001b[0m                 \u001b[0mprint\u001b[0m\u001b[1;33m(\u001b[0m\u001b[0mresult\u001b[0m\u001b[1;33m)\u001b[0m\u001b[1;33m\u001b[0m\u001b[1;33m\u001b[0m\u001b[0m\n",
      "\u001b[1;32mc:\\users\\mathe\\appdata\\local\\programs\\python\\python38\\lib\\site-packages\\mysql\\connector\\cursor.py\u001b[0m in \u001b[0;36mexecute\u001b[1;34m(self, operation, params, multi)\u001b[0m\n\u001b[0;32m    567\u001b[0m \u001b[1;33m\u001b[0m\u001b[0m\n\u001b[0;32m    568\u001b[0m         \u001b[1;32mtry\u001b[0m\u001b[1;33m:\u001b[0m\u001b[1;33m\u001b[0m\u001b[1;33m\u001b[0m\u001b[0m\n\u001b[1;32m--> 569\u001b[1;33m             \u001b[0mself\u001b[0m\u001b[1;33m.\u001b[0m\u001b[0m_handle_result\u001b[0m\u001b[1;33m(\u001b[0m\u001b[0mself\u001b[0m\u001b[1;33m.\u001b[0m\u001b[0m_connection\u001b[0m\u001b[1;33m.\u001b[0m\u001b[0mcmd_query\u001b[0m\u001b[1;33m(\u001b[0m\u001b[0mstmt\u001b[0m\u001b[1;33m)\u001b[0m\u001b[1;33m)\u001b[0m\u001b[1;33m\u001b[0m\u001b[1;33m\u001b[0m\u001b[0m\n\u001b[0m\u001b[0;32m    570\u001b[0m         \u001b[1;32mexcept\u001b[0m \u001b[0merrors\u001b[0m\u001b[1;33m.\u001b[0m\u001b[0mInterfaceError\u001b[0m\u001b[1;33m:\u001b[0m\u001b[1;33m\u001b[0m\u001b[1;33m\u001b[0m\u001b[0m\n\u001b[0;32m    571\u001b[0m             \u001b[1;32mif\u001b[0m \u001b[0mself\u001b[0m\u001b[1;33m.\u001b[0m\u001b[0m_connection\u001b[0m\u001b[1;33m.\u001b[0m\u001b[0m_have_next_result\u001b[0m\u001b[1;33m:\u001b[0m  \u001b[1;31m# pylint: disable=W0212\u001b[0m\u001b[1;33m\u001b[0m\u001b[1;33m\u001b[0m\u001b[0m\n",
      "\u001b[1;32mc:\\users\\mathe\\appdata\\local\\programs\\python\\python38\\lib\\site-packages\\mysql\\connector\\connection.py\u001b[0m in \u001b[0;36mcmd_query\u001b[1;34m(self, query, raw, buffered, raw_as_string)\u001b[0m\n\u001b[0;32m    597\u001b[0m         \u001b[1;32mif\u001b[0m \u001b[1;32mnot\u001b[0m \u001b[0misinstance\u001b[0m\u001b[1;33m(\u001b[0m\u001b[0mquery\u001b[0m\u001b[1;33m,\u001b[0m \u001b[0mbytes\u001b[0m\u001b[1;33m)\u001b[0m\u001b[1;33m:\u001b[0m\u001b[1;33m\u001b[0m\u001b[1;33m\u001b[0m\u001b[0m\n\u001b[0;32m    598\u001b[0m             \u001b[0mquery\u001b[0m \u001b[1;33m=\u001b[0m \u001b[0mquery\u001b[0m\u001b[1;33m.\u001b[0m\u001b[0mencode\u001b[0m\u001b[1;33m(\u001b[0m\u001b[1;34m'utf-8'\u001b[0m\u001b[1;33m)\u001b[0m\u001b[1;33m\u001b[0m\u001b[1;33m\u001b[0m\u001b[0m\n\u001b[1;32m--> 599\u001b[1;33m         \u001b[0mresult\u001b[0m \u001b[1;33m=\u001b[0m \u001b[0mself\u001b[0m\u001b[1;33m.\u001b[0m\u001b[0m_handle_result\u001b[0m\u001b[1;33m(\u001b[0m\u001b[0mself\u001b[0m\u001b[1;33m.\u001b[0m\u001b[0m_send_cmd\u001b[0m\u001b[1;33m(\u001b[0m\u001b[0mServerCmd\u001b[0m\u001b[1;33m.\u001b[0m\u001b[0mQUERY\u001b[0m\u001b[1;33m,\u001b[0m \u001b[0mquery\u001b[0m\u001b[1;33m)\u001b[0m\u001b[1;33m)\u001b[0m\u001b[1;33m\u001b[0m\u001b[1;33m\u001b[0m\u001b[0m\n\u001b[0m\u001b[0;32m    600\u001b[0m \u001b[1;33m\u001b[0m\u001b[0m\n\u001b[0;32m    601\u001b[0m         \u001b[1;32mif\u001b[0m \u001b[0mself\u001b[0m\u001b[1;33m.\u001b[0m\u001b[0m_have_next_result\u001b[0m\u001b[1;33m:\u001b[0m\u001b[1;33m\u001b[0m\u001b[1;33m\u001b[0m\u001b[0m\n",
      "\u001b[1;32mc:\\users\\mathe\\appdata\\local\\programs\\python\\python38\\lib\\site-packages\\mysql\\connector\\connection.py\u001b[0m in \u001b[0;36m_handle_result\u001b[1;34m(self, packet)\u001b[0m\n\u001b[0;32m    485\u001b[0m             \u001b[1;32mreturn\u001b[0m \u001b[0mself\u001b[0m\u001b[1;33m.\u001b[0m\u001b[0m_handle_eof\u001b[0m\u001b[1;33m(\u001b[0m\u001b[0mpacket\u001b[0m\u001b[1;33m)\u001b[0m\u001b[1;33m\u001b[0m\u001b[1;33m\u001b[0m\u001b[0m\n\u001b[0;32m    486\u001b[0m         \u001b[1;32melif\u001b[0m \u001b[0mpacket\u001b[0m\u001b[1;33m[\u001b[0m\u001b[1;36m4\u001b[0m\u001b[1;33m]\u001b[0m \u001b[1;33m==\u001b[0m \u001b[1;36m255\u001b[0m\u001b[1;33m:\u001b[0m\u001b[1;33m\u001b[0m\u001b[1;33m\u001b[0m\u001b[0m\n\u001b[1;32m--> 487\u001b[1;33m             \u001b[1;32mraise\u001b[0m \u001b[0merrors\u001b[0m\u001b[1;33m.\u001b[0m\u001b[0mget_exception\u001b[0m\u001b[1;33m(\u001b[0m\u001b[0mpacket\u001b[0m\u001b[1;33m)\u001b[0m\u001b[1;33m\u001b[0m\u001b[1;33m\u001b[0m\u001b[0m\n\u001b[0m\u001b[0;32m    488\u001b[0m \u001b[1;33m\u001b[0m\u001b[0m\n\u001b[0;32m    489\u001b[0m         \u001b[1;31m# We have a text result set\u001b[0m\u001b[1;33m\u001b[0m\u001b[1;33m\u001b[0m\u001b[1;33m\u001b[0m\u001b[0m\n",
      "\u001b[1;31mDatabaseError\u001b[0m: 3819 (HY000): Check constraint 'c_saldo' is violated."
     ]
    }
   ],
   "source": [
    "movimentacao(1, -20000)"
   ]
  },
  {
   "cell_type": "markdown",
   "metadata": {},
   "source": [
    "Opa, o constraint impediu o saque inválido! Excelente! Vamos reverter as ultimas mudanças antes de prosseguir:"
   ]
  },
  {
   "cell_type": "code",
   "execution_count": 9,
   "metadata": {},
   "outputs": [
    {
     "name": "stdout",
     "output_type": "stream",
     "text": [
      "Executando query:\n"
     ]
    }
   ],
   "source": [
    "db(\"ROLLBACK\")"
   ]
  },
  {
   "cell_type": "markdown",
   "metadata": {},
   "source": [
    "### Atividade\n",
    "\n",
    "Realize as seguintes movimentações (com COMMIT se tudo funcionou dessa vez, e ROLLBACK se falhar):\n",
    "\n",
    "| id_usuario | valor |\n",
    "|--|--|\n",
    "| 1 | +10000 |\n",
    "| 2 | +4000 |\n",
    "| 3 | +15000 |"
   ]
  },
  {
   "cell_type": "code",
   "execution_count": 11,
   "metadata": {},
   "outputs": [
    {
     "name": "stdout",
     "output_type": "stream",
     "text": [
      "Executando query:\n",
      "Executando query:\n",
      "Executando query:\n",
      "(1, 'Juca', 'Silva', Decimal('10000.00'))\n",
      "Executando query:\n",
      "Executando query:\n",
      "(2, 'Mario', 'Ferreira', Decimal('4000.00'))\n",
      "Executando query:\n",
      "Executando query:\n",
      "(3, 'Ana', 'Soares', Decimal('15000.00'))\n",
      "Executando query:\n"
     ]
    }
   ],
   "source": [
    "try:\n",
    "    db(\"START TRANSACTION\")\n",
    "    movimentacao(1, 10000)\n",
    "    movimentacao(2, 4000)\n",
    "    movimentacao(3, 15000)\n",
    "    db(\"COMMIT\")\n",
    "except:\n",
    "    db(\"ROLLBACK\")"
   ]
  },
  {
   "cell_type": "markdown",
   "metadata": {},
   "source": [
    "Crie um trigger para realizar operações de transferência no contexto de um empréstimo."
   ]
  },
  {
   "cell_type": "markdown",
   "metadata": {},
   "source": [
    "**Resposta**:\n",
    "```SQL\n",
    "\n",
    "-- Insira seu SQL aqui.\n",
    "USE emprestimos;\n",
    "\n",
    "DROP TRIGGER IF EXISTS trig_operacao;\n",
    "\n",
    "DELIMITER //\n",
    "CREATE TRIGGER trig_operacao\n",
    "BEFORE INSERT ON operacao\n",
    "FOR EACH ROW\n",
    "BEGIN\n",
    "\tUPDATE emprestimo \n",
    "\t\tSET valor_atual = valor_atual + NEW.valor \n",
    "        WHERE id_emprestimo = NEW.id_emprestimo;\n",
    "\tUPDATE usuario\n",
    "\t\tSET saldo = saldo - NEW.valor\n",
    "        WHERE id_usuario = (\n",
    "\t\t\tSELECT id_credor \n",
    "            FROM emprestimo \n",
    "            WHERE id_emprestimo = NEW.id_emprestimo);\n",
    "\tUPDATE usuario\n",
    "\t\tSET saldo = saldo + NEW.valor\n",
    "        WHERE id_usuario = (\n",
    "\t\t\tSELECT id_devedor \n",
    "\t\t\tFROM emprestimo \n",
    "            WHERE id_emprestimo = NEW.id_emprestimo);\n",
    "END //\n",
    "\n",
    "CREATE TRIGGER trig_emprestimo_insuficiente\n",
    "BEFORE UPDATE ON emprestimo\n",
    "FOR EACH ROW\n",
    "BEGIN\n",
    "    -- https://stackoverflow.com/questions/2115497/check-constraint-in-mysql-is-not-working\n",
    "    IF NEW.valor_atual < 0.0 THEN\n",
    "        SIGNAL SQLSTATE '12345'\n",
    "            SET MESSAGE_TEXT = 'Saldo insuficiente.';\n",
    "    END IF;\n",
    "END//\n",
    "\n",
    "DELIMITER ;\n",
    "```"
   ]
  },
  {
   "cell_type": "code",
   "execution_count": 10,
   "metadata": {},
   "outputs": [],
   "source": [
    "def pega_id_usuario(connection, nome, sobrenome):\n",
    "    with connection.cursor() as cursor:\n",
    "        cursor.execute('SELECT id_usuario FROM usuario WHERE nome = %s AND sobrenome = %s ORDER BY id_usuario DESC LIMIT 1;', (nome, sobrenome))\n",
    "        row = cursor.fetchone()\n",
    "        if row is None:\n",
    "            raise KeyError(f'Usuário {nome} {sobrenome} não encontrado')\n",
    "        return row[0]\n",
    "\n",
    "def cria_emprestimo(connection, id_credor, id_devedor, valor):\n",
    "    with connection.cursor() as cursor:\n",
    "        try:\n",
    "            cursor.execute('''\n",
    "                INSERT INTO emprestimo (id_credor, id_devedor, valor_atual) VALUES (%s, %s, %s)\n",
    "            ''', (id_credor, id_devedor, valor))\n",
    "            cursor.execute('COMMIT')\n",
    "        except Exception as e:\n",
    "            print(e)\n",
    "            cursor.execute('ROLLBACK')\n",
    "        \n",
    "        cursor.execute('SELECT LAST_INSERT_ID()')\n",
    "        row = cursor.fetchone()\n",
    "        if row is None:\n",
    "            raise KeyError('Deu ruim')\n",
    "        return row[0]"
   ]
  },
  {
   "cell_type": "code",
   "execution_count": 11,
   "metadata": {},
   "outputs": [],
   "source": [
    "emp = [('Ana', 'Soares', 'Juca', 'Silva', 1000),\n",
    "       ('Ana', 'Soares', 'Antonio', 'Reis', 2000), \n",
    "       ('Paulo', 'Oliveira', 'Juca', 'Silva', 3000)]\n",
    "for nome_credor, sobrenome_credor, nome_devedor, sobrenome_devedor, valor in emp:\n",
    "    id_credor = pega_id_usuario(connection, nome_credor, sobrenome_credor)\n",
    "    id_devedor = pega_id_usuario(connection, nome_devedor, sobrenome_devedor)\n",
    "    id_emprestimo = cria_emprestimo(connection, id_credor, id_devedor, valor)"
   ]
  },
  {
   "cell_type": "code",
   "execution_count": 12,
   "metadata": {},
   "outputs": [
    {
     "name": "stdout",
     "output_type": "stream",
     "text": [
      "Executando query:\n",
      "(1, 3, 1, Decimal('1000.00'), datetime.datetime(2020, 10, 26, 8, 58, 7), datetime.datetime(2020, 10, 26, 8, 58, 7))\n",
      "(2, 3, 4, Decimal('2000.00'), datetime.datetime(2020, 10, 26, 8, 58, 8), datetime.datetime(2020, 10, 26, 8, 58, 8))\n",
      "(3, 5, 1, Decimal('3000.00'), datetime.datetime(2020, 10, 26, 8, 58, 8), datetime.datetime(2020, 10, 26, 8, 58, 8))\n"
     ]
    }
   ],
   "source": [
    "db(\"SELECT * FROM emprestimo\")"
   ]
  },
  {
   "cell_type": "code",
   "execution_count": 13,
   "metadata": {},
   "outputs": [
    {
     "name": "stdout",
     "output_type": "stream",
     "text": [
      "Executando query:\n"
     ]
    }
   ],
   "source": [
    "db(\"INSERT INTO operacao(id_emprestimo, valor) VALUES (1, 100)\")"
   ]
  },
  {
   "cell_type": "code",
   "execution_count": 14,
   "metadata": {},
   "outputs": [
    {
     "name": "stdout",
     "output_type": "stream",
     "text": [
      "Executando query:\n",
      "(1, 3, 1, Decimal('1100.00'), datetime.datetime(2020, 10, 26, 8, 58, 7), datetime.datetime(2020, 10, 26, 9, 0, 4))\n",
      "(2, 3, 4, Decimal('2000.00'), datetime.datetime(2020, 10, 26, 8, 58, 8), datetime.datetime(2020, 10, 26, 8, 58, 8))\n",
      "(3, 5, 1, Decimal('3000.00'), datetime.datetime(2020, 10, 26, 8, 58, 8), datetime.datetime(2020, 10, 26, 8, 58, 8))\n"
     ]
    }
   ],
   "source": [
    "db(\"SELECT * FROM emprestimo\")"
   ]
  },
  {
   "cell_type": "code",
   "execution_count": 15,
   "metadata": {},
   "outputs": [
    {
     "name": "stdout",
     "output_type": "stream",
     "text": [
      "Executando query:\n",
      "(3, 'Ana', 'Soares', Decimal('14898.00'))\n",
      "Executando query:\n",
      "(1, 'Juca', 'Silva', Decimal('10098.00'))\n"
     ]
    }
   ],
   "source": [
    "db(\"SELECT * FROM usuario WHERE id_usuario = 3\")\n",
    "db(\"SELECT * FROM usuario WHERE id_usuario = 1\")"
   ]
  },
  {
   "cell_type": "markdown",
   "metadata": {},
   "source": [
    "## Views\n",
    "\n",
    "*Views* são como tabelas *'lógicas'*, que são criadas através da aplicação de um comando `SELECT`. É como um `SELECT` pré-armazenado.\n",
    "\n",
    "Vamos criar uma *view* para listar os nomes e sobrenomes de usuários, sem revelar seus saldos de conta:\n",
    "\n",
    "```SQL\n",
    "USE emprestimos;\n",
    "\n",
    "CREATE VIEW nomes AS \n",
    "\tSELECT DISTINCT nome, sobrenome FROM usuario;\n",
    "```\n",
    "\n",
    "Agora podemos usar esta view em consultas:"
   ]
  },
  {
   "cell_type": "code",
   "execution_count": 12,
   "metadata": {},
   "outputs": [
    {
     "name": "stdout",
     "output_type": "stream",
     "text": [
      "Executando query:\n",
      "('Juca', 'Silva')\n",
      "('Mario', 'Ferreira')\n",
      "('Ana', 'Soares')\n",
      "('Antonio', 'Reis')\n",
      "('Paulo', 'Oliveira')\n"
     ]
    }
   ],
   "source": [
    "db(\"SELECT * from nomes;\")"
   ]
  },
  {
   "cell_type": "markdown",
   "metadata": {},
   "source": [
    "Porque usar views? Assim como no caso de stored procedures, podemos configurar permissões de acesso diferentes para esta view. Suponha que um vendedor deva ter acesso aos nomes dos clientes, mas não aos seus saldos (por razões de confidencialidade). Podemos conceder ao vendedor acesso apenas à essa view. Poderíamos ter resolvido o problema também com uma stored procedure: em SQL as coisas costumam ter várias soluções possíveis..."
   ]
  },
  {
   "cell_type": "markdown",
   "metadata": {},
   "source": [
    "### Atividade\n",
    "\n",
    "Crie uma view para mostrar, para cada usuário, a soma dos valores de emprestimo dos quais este cliente é credor. Se o cliente não tiver empréstimo associado como credor, o valor deve ser zero."
   ]
  },
  {
   "cell_type": "markdown",
   "metadata": {},
   "source": [
    "**Resposta:**\n",
    "```SQL\n",
    "-- Insira seu SQL aqui.\n",
    "CREATE VIEW credor AS\n",
    "SELECT \n",
    "\tid_usuario, SUM(IFNULL(valor_atual, 0.0)) as total\n",
    "FROM \n",
    "\tusuario \n",
    "    LEFT OUTER JOIN emprestimo ON usuario.id_usuario = emprestimo.id_credor\n",
    "GROUP BY\n",
    "\tid_usuario;\n",
    "```"
   ]
  },
  {
   "cell_type": "code",
   "execution_count": 13,
   "metadata": {},
   "outputs": [
    {
     "name": "stdout",
     "output_type": "stream",
     "text": [
      "Executando query:\n",
      "(1, Decimal('0.00'))\n",
      "(2, Decimal('0.00'))\n",
      "(3, Decimal('0.00'))\n",
      "(4, Decimal('0.00'))\n",
      "(5, Decimal('0.00'))\n"
     ]
    }
   ],
   "source": [
    "db(\"SELECT * FROM credor\")"
   ]
  },
  {
   "cell_type": "markdown",
   "metadata": {},
   "source": [
    "Repita o processo para a posição de devedor."
   ]
  },
  {
   "cell_type": "markdown",
   "metadata": {},
   "source": [
    "**Resposta:**\n",
    "```SQL\n",
    "-- Insira seu SQL aqui.\n",
    "CREATE VIEW devedor AS\n",
    "SELECT \n",
    "\tid_usuario, SUM(IFNULL(valor_atual, 0.0)) as total\n",
    "FROM \n",
    "\tusuario \n",
    "    LEFT OUTER JOIN emprestimo ON usuario.id_usuario = emprestimo.id_devedor\n",
    "GROUP BY\n",
    "\tid_usuario;\n",
    "```"
   ]
  },
  {
   "cell_type": "code",
   "execution_count": 14,
   "metadata": {},
   "outputs": [
    {
     "name": "stdout",
     "output_type": "stream",
     "text": [
      "Executando query:\n",
      "(1, Decimal('0.00'))\n",
      "(2, Decimal('0.00'))\n",
      "(3, Decimal('0.00'))\n",
      "(4, Decimal('0.00'))\n",
      "(5, Decimal('0.00'))\n"
     ]
    }
   ],
   "source": [
    "db(\"SELECT * FROM devedor\")"
   ]
  },
  {
   "cell_type": "markdown",
   "metadata": {},
   "source": [
    "Crie uma view que lista o valor líquido de cada usuário, que é a soma dos valores como credor mais o saldo, subtraido da soma dos valores como devedor."
   ]
  },
  {
   "cell_type": "markdown",
   "metadata": {},
   "source": [
    "**Resposta:**\n",
    "```SQL\n",
    "-- Insira seu SQL aqui.\n",
    "CREATE VIEW valor_liquido AS\n",
    "SELECT\n",
    "\tid_usuario, nome, sobrenome, saldo + credor.total - devedor.total AS valor\n",
    "FROM\n",
    "\tusuario \n",
    "    INNER JOIN credor USING (id_usuario)\n",
    "    INNER JOIN devedor USING (id_usuario);\n",
    "```"
   ]
  },
  {
   "cell_type": "code",
   "execution_count": 15,
   "metadata": {},
   "outputs": [
    {
     "name": "stdout",
     "output_type": "stream",
     "text": [
      "Executando query:\n",
      "(1, 'Juca', 'Silva', Decimal('10000.00'))\n",
      "(2, 'Mario', 'Ferreira', Decimal('4000.00'))\n",
      "(3, 'Ana', 'Soares', Decimal('15000.00'))\n",
      "(4, 'Antonio', 'Reis', Decimal('0.00'))\n",
      "(5, 'Paulo', 'Oliveira', Decimal('0.00'))\n"
     ]
    }
   ],
   "source": [
    "db(\"SELECT * FROM valor_liquido\")"
   ]
  },
  {
   "cell_type": "markdown",
   "metadata": {},
   "source": [
    "## Conclusão"
   ]
  },
  {
   "cell_type": "markdown",
   "metadata": {},
   "source": [
    "Por hoje é só. Com a aula de hoje encerramos nossa discussão de SQL. Claro que o assunto ainda não se esgotou, mas agora vocês estão aptos a procurar detalhes de solução por conta própria em seus projetos - os principais conceitos foram cobertos. Deixamos de lado a investigação sobre *'cursores'* e laços, consulte o capítulo 15 do livro texto para ter uma noção de como estes artefatos são usados. (Não estamos cobrindo esse material por se tratar de conteúdo muito específico, e um tanto controverso!)\n",
    "\n",
    "Nas próximas aulas vamos discutir alguns tópicos de teoria e implementação de sistemas de gerenciamento de banco de dados, para conhecer melhor como as coisas funcionam \"por trás dos panos\". Assim concluiremos o módulo 1 - bancos de dados relacionais e iniciamos o projeto 1.\n",
    "\n",
    "Terminem todos os *handouts* e tragam suas dúvidas para o atendimento! Até a próxima!"
   ]
  },
  {
   "cell_type": "code",
   "execution_count": 16,
   "metadata": {},
   "outputs": [],
   "source": [
    "connection.close()"
   ]
  },
  {
   "cell_type": "code",
   "execution_count": null,
   "metadata": {},
   "outputs": [],
   "source": []
  }
 ],
 "metadata": {
  "kernelspec": {
   "display_name": "Python 3",
   "language": "python",
   "name": "python3"
  },
  "language_info": {
   "codemirror_mode": {
    "name": "ipython",
    "version": 3
   },
   "file_extension": ".py",
   "mimetype": "text/x-python",
   "name": "python",
   "nbconvert_exporter": "python",
   "pygments_lexer": "ipython3",
   "version": "3.8.4"
  }
 },
 "nbformat": 4,
 "nbformat_minor": 4
}
