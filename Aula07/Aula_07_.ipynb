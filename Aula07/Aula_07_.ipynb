{
 "cells": [
  {
   "cell_type": "markdown",
   "metadata": {},
   "source": [
    "# Mais sobre `SELECT`\n",
    "\n",
    "- temporary tables\n",
    "- views\n",
    "- variables\n",
    "- subqueries\n"
   ]
  },
  {
   "cell_type": "code",
   "execution_count": 1,
   "metadata": {},
   "outputs": [],
   "source": [
    "import mysql.connector\n",
    "from functools import partial\n",
    "\n",
    "def get_connection_helper():\n",
    "    def run_db_query(connection, query, args=None):\n",
    "        with connection.cursor() as cursor:\n",
    "            print('Executando query:')\n",
    "            cursor.execute(query, args)\n",
    "            for result in cursor:\n",
    "                print(result)\n",
    "\n",
    "    connection = mysql.connector.connect(\n",
    "        host='localhost',\n",
    "        user='megadados',\n",
    "        password='megadados2020',\n",
    "        database='sakila'\n",
    "    )\n",
    "    return connection, partial(run_db_query, connection)\n",
    "\n",
    "connection, db = get_connection_helper()"
   ]
  },
  {
   "cell_type": "markdown",
   "metadata": {},
   "source": [
    "## Aquecimento"
   ]
  },
  {
   "cell_type": "markdown",
   "metadata": {},
   "source": [
    "Quanta receita foi gerada para cada categoria de filmes? Liste do maior para o menor."
   ]
  },
  {
   "cell_type": "code",
   "execution_count": 2,
   "metadata": {
    "tags": []
   },
   "outputs": [
    {
     "name": "stdout",
     "output_type": "stream",
     "text": [
      "Executando query:\n",
      "('Sports', Decimal('5314.21'))\n",
      "('Sci-Fi', Decimal('4756.98'))\n",
      "('Animation', Decimal('4656.30'))\n",
      "('Drama', Decimal('4587.39'))\n",
      "('Comedy', Decimal('4383.58'))\n",
      "('Action', Decimal('4375.85'))\n",
      "('New', Decimal('4351.62'))\n",
      "('Games', Decimal('4281.33'))\n",
      "('Foreign', Decimal('4270.67'))\n",
      "('Family', Decimal('4226.07'))\n",
      "('Documentary', Decimal('4217.52'))\n",
      "('Horror', Decimal('3722.54'))\n",
      "('Children', Decimal('3655.55'))\n",
      "('Classics', Decimal('3639.59'))\n",
      "('Travel', Decimal('3549.64'))\n",
      "('Music', Decimal('3417.72'))\n"
     ]
    }
   ],
   "source": [
    "db(\"SELECT category.name, SUM(payment.amount) FROM payment INNER JOIN rental USING(rental_id) INNER JOIN inventory USING(inventory_id) INNER JOIN film USING(film_id) INNER JOIN film_category USING(film_id) INNER JOIN category USING(category_id) GROUP BY category.category_id ORDER BY SUM(payment.amount) DESC\")"
   ]
  },
  {
   "cell_type": "markdown",
   "metadata": {},
   "source": [
    "Liste os filmes e o numero de vezes em que foram alugados"
   ]
  },
  {
   "cell_type": "code",
   "execution_count": 3,
   "metadata": {
    "tags": []
   },
   "outputs": [
    {
     "name": "stdout",
     "output_type": "stream",
     "text": [
      "Executando query:\n",
      "('BUCKET BROTHERHOOD', 34)\n",
      "('ROCKETEER MOTHER', 33)\n",
      "('RIDGEMONT SUBMARINE', 32)\n",
      "('GRIT CLOCKWORK', 32)\n",
      "('SCALAWAG DUCK', 32)\n",
      "('JUGGLER HARDLY', 32)\n",
      "('FORWARD TEMPLE', 32)\n",
      "('HOBBIT ALIEN', 31)\n",
      "('ROBBERS JOON', 31)\n",
      "('ZORRO ARK', 31)\n"
     ]
    }
   ],
   "source": [
    "db(\"SELECT film.title, COUNT(rental.rental_id) FROM film INNER JOIN inventory USING(film_id) INNER JOIN rental USING(inventory_id) GROUP BY film.title ORDER BY COUNT(rental.rental_id) DESC LIMIT 10\")"
   ]
  },
  {
   "cell_type": "markdown",
   "metadata": {},
   "source": [
    "## Views\n",
    "\n",
    "Uma *view* é uma tabela virtual, construida a partir de um comando `SELECT`. Por exemplo: execute o código a seguir."
   ]
  },
  {
   "cell_type": "code",
   "execution_count": 4,
   "metadata": {
    "tags": []
   },
   "outputs": [
    {
     "name": "stdout",
     "output_type": "stream",
     "text": [
      "Executando query:\n",
      "Executando query:\n"
     ]
    }
   ],
   "source": [
    "db('''\n",
    "DROP VIEW IF EXISTS movie_count;\n",
    "''')\n",
    "\n",
    "db('''\n",
    "CREATE VIEW movie_count AS\n",
    "    SELECT \n",
    "        title, COUNT(rental_id) as cnt\n",
    "    FROM\n",
    "        film\n",
    "        LEFT OUTER JOIN inventory USING (film_id)\n",
    "        LEFT OUTER JOIN rental USING (inventory_id)\n",
    "    GROUP BY\n",
    "        film_id\n",
    "    ORDER BY\n",
    "        cnt ASC;\n",
    "''')"
   ]
  },
  {
   "cell_type": "markdown",
   "metadata": {},
   "source": [
    "Agora temos uma *view* chamada `movie_count`. Vamos verificar que ela funcionou, listando as 30 primeiras linhas:"
   ]
  },
  {
   "cell_type": "code",
   "execution_count": 5,
   "metadata": {
    "tags": []
   },
   "outputs": [
    {
     "name": "stdout",
     "output_type": "stream",
     "text": [
      "Executando query:\n",
      "('ALICE FANTASIA', 0)\n",
      "('APOLLO TEEN', 0)\n",
      "('ARGONAUTS TOWN', 0)\n",
      "('ARK RIDGEMONT', 0)\n",
      "('ARSENIC INDEPENDENCE', 0)\n",
      "('BOONDOCK BALLROOM', 0)\n",
      "('BUTCH PANTHER', 0)\n",
      "('CATCH AMISTAD', 0)\n",
      "('CHINATOWN GLADIATOR', 0)\n",
      "('CHOCOLATE DUCK', 0)\n",
      "('COMMANDMENTS EXPRESS', 0)\n",
      "('CROSSING DIVORCE', 0)\n",
      "('CROWDS TELEMARK', 0)\n",
      "('CRYSTAL BREAKING', 0)\n",
      "('STONED PUNK', 0)\n",
      "('DELIVERANCE MULHOLLAND', 0)\n",
      "('FIREHOUSE VIETNAM', 0)\n",
      "('FLOATS GARDEN', 0)\n",
      "('FRANKENSTEIN STRANGER', 0)\n",
      "('GLADIATOR WESTWARD', 0)\n",
      "('GUMP DATE', 0)\n",
      "('HATE HANDICAP', 0)\n",
      "('HOCUS FRIDA', 0)\n",
      "('KENTUCKIAN GIANT', 0)\n",
      "('KILL BROTHERHOOD', 0)\n",
      "('MUPPET MILE', 0)\n",
      "('ORDER BETRAYED', 0)\n",
      "('PEARL DESTINY', 0)\n",
      "('PERDITION FARGO', 0)\n",
      "('PSYCHO SHRUNK', 0)\n"
     ]
    }
   ],
   "source": [
    "db('''\n",
    "SELECT * FROM movie_count LIMIT 30\n",
    "''')"
   ]
  },
  {
   "cell_type": "markdown",
   "metadata": {},
   "source": [
    "Agora suponha que alteramos a tabela `film`, mudando o nome do filme \"DAZED PUNK\" para \"STONED PUNK\".\n",
    "\n",
    "**Atividade**: Do it."
   ]
  },
  {
   "cell_type": "code",
   "execution_count": 6,
   "metadata": {
    "tags": []
   },
   "outputs": [
    {
     "name": "stdout",
     "output_type": "stream",
     "text": [
      "Executando query:\n"
     ]
    }
   ],
   "source": [
    "db(\"UPDATE film SET title = 'STONED PUNK' WHERE title LIKE 'DAZED PUNK'\")"
   ]
  },
  {
   "cell_type": "markdown",
   "metadata": {},
   "source": [
    "Verifique agora a nossa *view*:"
   ]
  },
  {
   "cell_type": "code",
   "execution_count": 7,
   "metadata": {
    "tags": []
   },
   "outputs": [
    {
     "name": "stdout",
     "output_type": "stream",
     "text": [
      "Executando query:\n",
      "('ALICE FANTASIA', 0)\n",
      "('APOLLO TEEN', 0)\n",
      "('ARGONAUTS TOWN', 0)\n",
      "('ARK RIDGEMONT', 0)\n",
      "('ARSENIC INDEPENDENCE', 0)\n",
      "('BOONDOCK BALLROOM', 0)\n",
      "('BUTCH PANTHER', 0)\n",
      "('CATCH AMISTAD', 0)\n",
      "('CHINATOWN GLADIATOR', 0)\n",
      "('CHOCOLATE DUCK', 0)\n",
      "('COMMANDMENTS EXPRESS', 0)\n",
      "('CROSSING DIVORCE', 0)\n",
      "('CROWDS TELEMARK', 0)\n",
      "('CRYSTAL BREAKING', 0)\n",
      "('STONED PUNK', 0)\n",
      "('DELIVERANCE MULHOLLAND', 0)\n",
      "('FIREHOUSE VIETNAM', 0)\n",
      "('FLOATS GARDEN', 0)\n",
      "('FRANKENSTEIN STRANGER', 0)\n",
      "('GLADIATOR WESTWARD', 0)\n",
      "('GUMP DATE', 0)\n",
      "('HATE HANDICAP', 0)\n",
      "('HOCUS FRIDA', 0)\n",
      "('KENTUCKIAN GIANT', 0)\n",
      "('KILL BROTHERHOOD', 0)\n",
      "('MUPPET MILE', 0)\n",
      "('ORDER BETRAYED', 0)\n",
      "('PEARL DESTINY', 0)\n",
      "('PERDITION FARGO', 0)\n",
      "('PSYCHO SHRUNK', 0)\n"
     ]
    }
   ],
   "source": [
    "db('''\n",
    "SELECT * FROM movie_count LIMIT 30\n",
    "''')"
   ]
  },
  {
   "cell_type": "markdown",
   "metadata": {},
   "source": [
    "Como você pode ver, as views são tabelas virtuais que são automaticamente atualizadas quando as tabelas originais são modificadas."
   ]
  },
  {
   "cell_type": "code",
   "execution_count": 8,
   "metadata": {},
   "outputs": [],
   "source": [
    "connection.rollback()"
   ]
  },
  {
   "cell_type": "markdown",
   "metadata": {},
   "source": [
    "## Tabelas temporárias"
   ]
  },
  {
   "cell_type": "markdown",
   "metadata": {},
   "source": [
    "Tabelas temporárias podem ser criadas para ajudar nas tarefas de manipulação de dados. Essas tabelas existem apenas pela duração da sessão. Para criar uma tabela temporária, basta adicionar a palavra-chave `TEMPORARY` no momento da criação.\n",
    "\n",
    "É comum criar tabelas temporárias à partir do resultado de comandos `SELECT`. Por exemplo, a seguinte query permite montar uma tabela temporária com os filmes que duram mais que 3 horas:"
   ]
  },
  {
   "cell_type": "code",
   "execution_count": 9,
   "metadata": {
    "tags": []
   },
   "outputs": [
    {
     "name": "stdout",
     "output_type": "stream",
     "text": [
      "Executando query:\n"
     ]
    }
   ],
   "source": [
    "db('''\n",
    "CREATE TEMPORARY TABLE long_film \n",
    "SELECT\n",
    "    *\n",
    "FROM\n",
    "    film\n",
    "WHERE\n",
    "    film.length > 180;\n",
    "''')"
   ]
  },
  {
   "cell_type": "markdown",
   "metadata": {},
   "source": [
    "Podemos verificar que a tabela `long_film` agora existe:"
   ]
  },
  {
   "cell_type": "code",
   "execution_count": 10,
   "metadata": {
    "scrolled": true,
    "tags": []
   },
   "outputs": [
    {
     "name": "stdout",
     "output_type": "stream",
     "text": [
      "Executando query:\n",
      "('film_id', 'smallint unsigned', 'NO', '', '0', 'NULL')\n",
      "('title', 'varchar(255)', 'NO', '', None, 'NULL')\n",
      "('description', 'text', 'YES', '', None, 'NULL')\n",
      "('release_year', 'year', 'YES', '', None, 'NULL')\n",
      "('language_id', 'tinyint unsigned', 'NO', '', None, 'NULL')\n",
      "('original_language_id', 'tinyint unsigned', 'YES', '', None, 'NULL')\n",
      "('rental_duration', 'tinyint unsigned', 'NO', '', '3', 'NULL')\n",
      "('rental_rate', 'decimal(4,2)', 'NO', '', '4.99', 'NULL')\n",
      "('length', 'smallint unsigned', 'YES', '', None, 'NULL')\n",
      "('replacement_cost', 'decimal(5,2)', 'NO', '', '19.99', 'NULL')\n",
      "('rating', \"enum('G','PG','PG-13','R','NC-17')\", 'YES', '', 'G', 'NULL')\n",
      "('special_features', \"set('Trailers','Commentaries','Deleted Scenes','Behind the Scenes')\", 'YES', '', None, 'NULL')\n",
      "('last_update', 'timestamp', 'NO', '', 'CURRENT_TIMESTAMP', 'on update CURRENT_TIMESTAMP')\n"
     ]
    }
   ],
   "source": [
    "db('DESCRIBE long_film')"
   ]
  },
  {
   "cell_type": "markdown",
   "metadata": {},
   "source": [
    "Muito embora ela não apareça na lista de tabelas: isso é um bug do MySQL. (https://dev.mysql.com/worklog/task/?id=648)"
   ]
  },
  {
   "cell_type": "code",
   "execution_count": 11,
   "metadata": {
    "tags": []
   },
   "outputs": [
    {
     "name": "stdout",
     "output_type": "stream",
     "text": [
      "Executando query:\n",
      "('actor',)\n",
      "('actor_info',)\n",
      "('address',)\n",
      "('category',)\n",
      "('city',)\n",
      "('country',)\n",
      "('customer',)\n",
      "('customer_list',)\n",
      "('film',)\n",
      "('film_actor',)\n",
      "('film_category',)\n",
      "('film_list',)\n",
      "('film_text',)\n",
      "('inventory',)\n",
      "('language',)\n",
      "('movie_count',)\n",
      "('nicer_but_slower_film_list',)\n",
      "('payment',)\n",
      "('rental',)\n",
      "('sales_by_film_category',)\n",
      "('sales_by_store',)\n",
      "('staff',)\n",
      "('staff_list',)\n",
      "('store',)\n"
     ]
    }
   ],
   "source": [
    "db('SHOW TABLES')"
   ]
  },
  {
   "cell_type": "markdown",
   "metadata": {},
   "source": [
    "Vamos listar o conteudo desta tabela:"
   ]
  },
  {
   "cell_type": "code",
   "execution_count": 12,
   "metadata": {
    "tags": []
   },
   "outputs": [
    {
     "name": "stdout",
     "output_type": "stream",
     "text": [
      "Executando query:\n",
      "('ANALYZE HOOSIERS',)\n",
      "('BAKED CLEOPATRA',)\n",
      "('CATCH AMISTAD',)\n",
      "('CHICAGO NORTH',)\n",
      "('CONSPIRACY SPIRIT',)\n",
      "('CONTROL ANTHEM',)\n",
      "('CRYSTAL BREAKING',)\n",
      "('DARN FORRESTER',)\n",
      "('FRONTIER CABIN',)\n",
      "('GANGS PRIDE',)\n",
      "('HAUNTING PIANIST',)\n",
      "('HOME PITY',)\n",
      "('HOTEL HAPPINESS',)\n",
      "('INTRIGUE WORST',)\n",
      "('JACKET FRISCO',)\n",
      "('KING EVOLUTION',)\n",
      "('LAWLESS VISION',)\n",
      "('LOVE SUICIDES',)\n",
      "('MONSOON CAUSE',)\n",
      "('MOONWALKER FOOL',)\n",
      "('MUSCLE BRIGHT',)\n",
      "('POND SEATTLE',)\n",
      "('RECORDS ZORRO',)\n",
      "('REDS POCUS',)\n",
      "('RUNAWAY TENENBAUMS',)\n",
      "('SATURN NAME',)\n",
      "('SCALAWAG DUCK',)\n",
      "('SEARCHERS WAIT',)\n",
      "('SMOOCHY CONTROL',)\n",
      "('SOLDIERS EVOLUTION',)\n",
      "('SONS INTERVIEW',)\n",
      "('SORORITY QUEEN',)\n",
      "('STAR OPERATION',)\n",
      "('SWEET BROTHERHOOD',)\n",
      "('THEORY MERMAID',)\n",
      "('WIFE TURN',)\n",
      "('WILD APOLLO',)\n",
      "('WORST BANGER',)\n",
      "('YOUNG LANGUAGE',)\n"
     ]
    }
   ],
   "source": [
    "db('SELECT title FROM long_film')"
   ]
  },
  {
   "cell_type": "markdown",
   "metadata": {},
   "source": [
    "Vamos apagar a tabela `long_film`:"
   ]
  },
  {
   "cell_type": "code",
   "execution_count": 13,
   "metadata": {
    "tags": []
   },
   "outputs": [
    {
     "name": "stdout",
     "output_type": "stream",
     "text": [
      "Executando query:\n"
     ]
    }
   ],
   "source": [
    "db('DROP TABLE long_film')"
   ]
  },
  {
   "cell_type": "markdown",
   "metadata": {},
   "source": [
    "### Vamos praticar"
   ]
  },
  {
   "cell_type": "markdown",
   "metadata": {},
   "source": [
    "- Crie uma tabela temporária `max_duration` que contém a duração máxima de filme para cada categoria"
   ]
  },
  {
   "cell_type": "code",
   "execution_count": 14,
   "metadata": {
    "tags": []
   },
   "outputs": [
    {
     "name": "stdout",
     "output_type": "stream",
     "text": [
      "Executando query:\n",
      "Executando query:\n"
     ]
    }
   ],
   "source": [
    "db('''\n",
    "DROP TEMPORARY TABLE IF EXISTS max_duration;\n",
    "''')\n",
    "db('CREATE TEMPORARY TABLE max_duration SELECT category.name as name, MAX(film.length) as max_len FROM film INNER JOIN film_category USING(film_id) INNER JOIN category USING(category_id) GROUP BY category.category_id')"
   ]
  },
  {
   "cell_type": "markdown",
   "metadata": {},
   "source": [
    " - Verifique a tabela."
   ]
  },
  {
   "cell_type": "code",
   "execution_count": 15,
   "metadata": {
    "tags": []
   },
   "outputs": [
    {
     "name": "stdout",
     "output_type": "stream",
     "text": [
      "Executando query:\n",
      "('Action', 185)\n",
      "('Animation', 185)\n",
      "('Children', 178)\n",
      "('Classics', 184)\n",
      "('Comedy', 185)\n",
      "('Documentary', 183)\n",
      "('Drama', 181)\n",
      "('Family', 184)\n",
      "('Foreign', 184)\n",
      "('Games', 185)\n",
      "('Horror', 181)\n",
      "('Music', 185)\n",
      "('New', 183)\n",
      "('Sci-Fi', 185)\n",
      "('Sports', 184)\n",
      "('Travel', 185)\n"
     ]
    }
   ],
   "source": [
    "db(\"SELECT * FROM max_duration\")"
   ]
  },
  {
   "cell_type": "markdown",
   "metadata": {},
   "source": [
    "- Agora use a tabela temporária para construir uma tabela com as categorias e seus respectivos filmes mais longos:"
   ]
  },
  {
   "cell_type": "code",
   "execution_count": 16,
   "metadata": {
    "tags": []
   },
   "outputs": [
    {
     "name": "stdout",
     "output_type": "stream",
     "text": [
      "Executando query:\n",
      "('Action', 'DARN FORRESTER')\n",
      "('Animation', 'GANGS PRIDE')\n",
      "('Children', 'FURY MURDER')\n",
      "('Classics', 'CONSPIRACY SPIRIT')\n",
      "('Comedy', 'CONTROL ANTHEM')\n",
      "('Documentary', 'WIFE TURN')\n",
      "('Drama', 'JACKET FRISCO')\n",
      "('Family', 'KING EVOLUTION')\n",
      "('Foreign', 'CRYSTAL BREAKING')\n",
      "('Games', 'CHICAGO NORTH')\n",
      "('Horror', 'ANALYZE HOOSIERS')\n",
      "('Music', 'HOME PITY')\n",
      "('New', 'FRONTIER CABIN')\n",
      "('Sci-Fi', 'SOLDIERS EVOLUTION')\n",
      "('Sports', 'SMOOCHY CONTROL')\n",
      "('Travel', 'MUSCLE BRIGHT')\n"
     ]
    }
   ],
   "source": [
    "db(\"SELECT category.name, film.title FROM max_duration INNER JOIN category USING(name) INNER JOIN film_category USING(category_id) INNER JOIN film USING(film_id) WHERE film.length = max_duration.max_len GROUP BY category.name\")"
   ]
  },
  {
   "cell_type": "markdown",
   "metadata": {},
   "source": [
    "- delete a tabela temporária"
   ]
  },
  {
   "cell_type": "code",
   "execution_count": 17,
   "metadata": {
    "tags": []
   },
   "outputs": [
    {
     "name": "stdout",
     "output_type": "stream",
     "text": [
      "Executando query:\n"
     ]
    }
   ],
   "source": [
    "db('''\n",
    "DROP TEMPORARY TABLE IF EXISTS max_duration;\n",
    "''')"
   ]
  },
  {
   "cell_type": "markdown",
   "metadata": {},
   "source": [
    "### Desafio!"
   ]
  },
  {
   "cell_type": "markdown",
   "metadata": {},
   "source": [
    "- Gere uma tabela contendo, para cada ator, a seguinte informação:\n",
    "\n",
    "| first_name | last_name | filmes por categoria |\n",
    "|--|--|--|\n",
    "| PENELOPE | GUINESS | Animation: ANACONDA CONFESSIONS; Children: LANGUAGE COWBOY; Classics: COLOR PHILADELPHIA, WESTWARD SEABISCUIT; Comedy: VERTIGO NORTHWEST; Documentary: ACADEMY DINOSAUR; Family: KING EVOLUTION, SPLASH GUMP; Foreign: MULHOLLAND BEAST; Games: BULWORTH COMMANDMENTS, HUMAN GRAFFITI; Horror: ELEPHANT TROJAN, LADY STAGE, RULES HUMAN; Music: WIZARD COLDBLOODED; New: ANGELS LIFE, OKLAHOMA JUMANJI; Sci-Fi: CHEAPER CLYDE; Sports: GLEAMING JAWBREAKER |\n",
    "| NICK | WAHLBERG | Action: BULL SHAWSHANK; Animation: FIGHT JAWBREAKER; Children: JERSEY SASSY; Classics: DRACULA CRYSTAL, GILBERT PELICAN; Comedy: MALLRATS UNITED, RUSHMORE MERMAID; Documentary: ADAPTATION HOLES; Drama: WARDROBE PHANTOM; Family: APACHE DIVINE, CHISUM BEHAVIOR, INDIAN LOVE, MAGUIRE APACHE; Foreign: BABY HALL, HAPPINESS UNITED; Games: ROOF CHAMPION; Music: LUCKY FLYING; New: DESTINY SATURDAY, FLASH WARS, JEKYLL FROGMEN, MASK PEACH; Sci-Fi: CHAINSAW UPTOWN, GOODFELLAS SALUTE; Travel: LIAISONS SWEET, SMILE EARRING |\n",
    "| etc | etc | etc |\n",
    "\n",
    "Dica: use `GROUP_CONCAT` para agrupar todas as strings de uma coluna em uma string só, e `CONCAT` para unir strings particulares."
   ]
  },
  {
   "cell_type": "code",
   "execution_count": 18,
   "metadata": {
    "tags": []
   },
   "outputs": [
    {
     "name": "stdout",
     "output_type": "stream",
     "text": [
      "Executando query:\n",
      "(1, 'PENELOPE', 'GUINESS', 'Documentary: ACADEMY DINOSAUR,ANACONDA CONFESSIONS,ANGELS LIFE,BULWORTH COMMANDMENTS,CHEAPER CLYDE,COLOR PHILADELPHIA,ELEPHANT TROJAN,GLEAMING JAWBREAKER,HUMAN GRAFFITI,KING EVOLUTION,LADY STAGE,LANGUAGE COWBOY,MULHOLLAND BEAST,OKLAHOMA JUMANJI,RULES HUMAN,SPLASH GUMP,VERTIGO NORTHWEST,WESTWARD SEABISCUIT,WIZARD COLDBLOODED')\n"
     ]
    }
   ],
   "source": [
    "# db(\"SELECT CONCAT(first_name, ' ', last_name), movs FROM (SELECT actor_id, actor.first_name, actor.last_name, CONCAT(category.name, ': ', GROUP_CONCAT(DISTINCT film.title)) AS movs FROM category INNER JOIN film_category USING(category_id) INNER JOIN film USING(film_id) INNER JOIN film_actor USING (film_id) INNER JOIN actor USING (actor_id)) AS partial GROUP BY actor_id\")\n",
    "\n",
    "db(\"SELECT actor_id, actor.first_name, actor.last_name, CONCAT(category.name, ': ', GROUP_CONCAT(DISTINCT film.title)) AS movs FROM category INNER JOIN film_category USING(category_id) INNER JOIN film USING(film_id) INNER JOIN film_actor USING (film_id) INNER JOIN actor USING (actor_id) WHERE first_name LIKE 'PENELOPE' AND last_name LIKE 'GUINESS' GROUP BY actor_id\")"
   ]
  },
  {
   "cell_type": "markdown",
   "metadata": {},
   "source": [
    "## Variáveis\n",
    "\n",
    "Podemos montar uma query que retorne um valor só e armazenar este valor em uma variável, para uso posterior em outras queries. Para isso vamos usar o prefixo '@' para indicar variáveis, e o comando `SELECT ... INTO`.\n",
    "\n",
    "Exemplo: quais são os filmes \"caros\" da nossa base sakila? Vamos descobrir quais filmes custam mais que um desvio padrão acima da média de preços de locação.\n",
    "\n",
    "Primeiro vamos calcular a média e o desvio padrão dos preços de aluguel:"
   ]
  },
  {
   "cell_type": "code",
   "execution_count": 19,
   "metadata": {
    "tags": []
   },
   "outputs": [
    {
     "name": "stdout",
     "output_type": "stream",
     "text": [
      "Executando query:\n"
     ]
    }
   ],
   "source": [
    "db('''\n",
    "SELECT \n",
    "    AVG(rental_rate), \n",
    "    STDDEV(rental_rate)\n",
    "INTO \n",
    "    @avg_rate, \n",
    "    @stddev_rate \n",
    "FROM\n",
    "    film;\n",
    "''')"
   ]
  },
  {
   "cell_type": "markdown",
   "metadata": {},
   "source": [
    "Note que a query não retorna um resultado: o resultado foi armazenado direto nas variáveis `@avg_rate` e `@stddev_rate`. Vamos usar um `SELECT` sem tabelas para ver o resultado:"
   ]
  },
  {
   "cell_type": "code",
   "execution_count": 20,
   "metadata": {
    "tags": []
   },
   "outputs": [
    {
     "name": "stdout",
     "output_type": "stream",
     "text": [
      "Executando query:\n",
      "(Decimal('2.980000000'), 1.6455698101265719)\n"
     ]
    }
   ],
   "source": [
    "db('SELECT @avg_rate, @stddev_rate')"
   ]
  },
  {
   "cell_type": "markdown",
   "metadata": {},
   "source": [
    "Agora podemos selecionar os filmes caros!"
   ]
  },
  {
   "cell_type": "code",
   "execution_count": 21,
   "metadata": {
    "tags": []
   },
   "outputs": [
    {
     "name": "stdout",
     "output_type": "stream",
     "text": [
      "Executando query:\n",
      "('ACE GOLDFINGER', Decimal('4.99'))\n",
      "('AIRPLANE SIERRA', Decimal('4.99'))\n",
      "('AIRPORT POLLOCK', Decimal('4.99'))\n",
      "('ALADDIN CALENDAR', Decimal('4.99'))\n",
      "('ALI FOREVER', Decimal('4.99'))\n",
      "('AMELIE HELLFIGHTERS', Decimal('4.99'))\n",
      "('AMERICAN CIRCUS', Decimal('4.99'))\n",
      "('ANTHEM LUKE', Decimal('4.99'))\n",
      "('APACHE DIVINE', Decimal('4.99'))\n",
      "('APOCALYPSE FLAMINGOS', Decimal('4.99'))\n",
      "('ATTACKS HATE', Decimal('4.99'))\n",
      "('ATTRACTION NEWTON', Decimal('4.99'))\n",
      "('AUTUMN CROW', Decimal('4.99'))\n",
      "('BABY HALL', Decimal('4.99'))\n",
      "('BACKLASH UNDEFEATED', Decimal('4.99'))\n",
      "('BEAST HUNCHBACK', Decimal('4.99'))\n",
      "('BEAUTY GREASE', Decimal('4.99'))\n",
      "('BEHAVIOR RUNAWAY', Decimal('4.99'))\n",
      "('BETRAYED REAR', Decimal('4.99'))\n",
      "('BIKINI BORROWERS', Decimal('4.99'))\n",
      "('BILKO ANONYMOUS', Decimal('4.99'))\n",
      "('BIRCH ANTITRUST', Decimal('4.99'))\n",
      "('BIRD INDEPENDENCE', Decimal('4.99'))\n",
      "('BIRDS PERDITION', Decimal('4.99'))\n",
      "('BLINDNESS GUN', Decimal('4.99'))\n",
      "('BOILED DARES', Decimal('4.99'))\n",
      "('BOOGIE AMELIE', Decimal('4.99'))\n",
      "('BORN SPINAL', Decimal('4.99'))\n",
      "('BOWFINGER GABLES', Decimal('4.99'))\n",
      "('BRANNIGAN SUNRISE', Decimal('4.99'))\n",
      "('BREAKFAST GOLDFINGER', Decimal('4.99'))\n",
      "('BRIGHT ENCOUNTERS', Decimal('4.99'))\n",
      "('BROOKLYN DESERT', Decimal('4.99'))\n",
      "('BUBBLE GROSSE', Decimal('4.99'))\n",
      "('BUCKET BROTHERHOOD', Decimal('4.99'))\n",
      "('CALENDAR GUNFIGHT', Decimal('4.99'))\n",
      "('CALIFORNIA BIRDS', Decimal('4.99'))\n",
      "('CANDLES GRAPES', Decimal('4.99'))\n",
      "('CARIBBEAN LIBERTY', Decimal('4.99'))\n",
      "('CASABLANCA SUPER', Decimal('4.99'))\n",
      "('CASPER DRAGONFLY', Decimal('4.99'))\n",
      "('CASUALTIES ENCINO', Decimal('4.99'))\n",
      "('CAT CONEHEADS', Decimal('4.99'))\n",
      "('CENTER DINOSAUR', Decimal('4.99'))\n",
      "('CHAMBER ITALIAN', Decimal('4.99'))\n",
      "('CHAMPION FLATLINERS', Decimal('4.99'))\n",
      "('CHASING FIGHT', Decimal('4.99'))\n",
      "('CHICAGO NORTH', Decimal('4.99'))\n",
      "('CHINATOWN GLADIATOR', Decimal('4.99'))\n",
      "('CHISUM BEHAVIOR', Decimal('4.99'))\n",
      "('CINCINATTI WHISPERER', Decimal('4.99'))\n",
      "('CLERKS ANGELS', Decimal('4.99'))\n",
      "('CLOSER BANG', Decimal('4.99'))\n",
      "('CLUE GRAIL', Decimal('4.99'))\n",
      "('COLDBLOODED DARLING', Decimal('4.99'))\n",
      "('COMA HEAD', Decimal('4.99'))\n",
      "('COMMAND DARLING', Decimal('4.99'))\n",
      "('COMMANDMENTS EXPRESS', Decimal('4.99'))\n",
      "('CONEHEADS SMOOCHY', Decimal('4.99'))\n",
      "('CONFESSIONS MAGUIRE', Decimal('4.99'))\n",
      "('CONFIDENTIAL INTERVIEW', Decimal('4.99'))\n",
      "('CONNECTICUT TRAMP', Decimal('4.99'))\n",
      "('CONQUERER NUTS', Decimal('4.99'))\n",
      "('CONTROL ANTHEM', Decimal('4.99'))\n",
      "('CONVERSATION DOWNHILL', Decimal('4.99'))\n",
      "('CREEPERS KANE', Decimal('4.99'))\n",
      "('CROSSING DIVORCE', Decimal('4.99'))\n",
      "('CROWDS TELEMARK', Decimal('4.99'))\n",
      "('DADDY PITTSBURGH', Decimal('4.99'))\n",
      "('DAISY MENAGERIE', Decimal('4.99'))\n",
      "('DANGEROUS UPTOWN', Decimal('4.99'))\n",
      "('DARKO DORADO', Decimal('4.99'))\n",
      "('DARLING BREAKING', Decimal('4.99'))\n",
      "('DARN FORRESTER', Decimal('4.99'))\n",
      "('DAUGHTER MADIGAN', Decimal('4.99'))\n",
      "('DAWN POND', Decimal('4.99'))\n",
      "('DAY UNFAITHFUL', Decimal('4.99'))\n",
      "('STONED PUNK', Decimal('4.99'))\n",
      "('DEEP CRUSADE', Decimal('4.99'))\n",
      "('DESERT POSEIDON', Decimal('4.99'))\n",
      "('DESPERATE TRAINSPOTTING', Decimal('4.99'))\n",
      "('DESTINY SATURDAY', Decimal('4.99'))\n",
      "('DETAILS PACKER', Decimal('4.99'))\n",
      "('DEVIL DESIRE', Decimal('4.99'))\n",
      "('DOGMA FAMILY', Decimal('4.99'))\n",
      "('DOORS PRESIDENT', Decimal('4.99'))\n",
      "('DORADO NOTTING', Decimal('4.99'))\n",
      "('DOUBTFIRE LABYRINTH', Decimal('4.99'))\n",
      "('DOZEN LION', Decimal('4.99'))\n",
      "('DRAGONFLY STRANGERS', Decimal('4.99'))\n",
      "('DRIFTER COMMANDMENTS', Decimal('4.99'))\n",
      "('DRIVING POLISH', Decimal('4.99'))\n",
      "('DROP WATERFRONT', Decimal('4.99'))\n",
      "('DUDE BLINDNESS', Decimal('4.99'))\n",
      "('DURHAM PANKY', Decimal('4.99'))\n",
      "('DYING MAKER', Decimal('4.99'))\n",
      "('EAGLES PANKY', Decimal('4.99'))\n",
      "('EARLY HOME', Decimal('4.99'))\n",
      "('EASY GLADIATOR', Decimal('4.99'))\n",
      "('EDGE KISSING', Decimal('4.99'))\n",
      "('ELEMENT FREDDY', Decimal('4.99'))\n",
      "('ELEPHANT TROJAN', Decimal('4.99'))\n",
      "('ELF MURDER', Decimal('4.99'))\n",
      "('ELIZABETH SHANE', Decimal('4.99'))\n",
      "('ENEMY ODDS', Decimal('4.99'))\n",
      "('EVE RESURRECTION', Decimal('4.99'))\n",
      "('EXPECATIONS NATURAL', Decimal('4.99'))\n",
      "('FALCON VOLUME', Decimal('4.99'))\n",
      "('FELLOWSHIP AUTUMN', Decimal('4.99'))\n",
      "('FEVER EMPIRE', Decimal('4.99'))\n",
      "('FIDDLER LOST', Decimal('4.99'))\n",
      "('FIDELITY DEVIL', Decimal('4.99'))\n",
      "('FIRE WOLVES', Decimal('4.99'))\n",
      "('FLAMINGOS CONNECTICUT', Decimal('4.99'))\n",
      "('FLASH WARS', Decimal('4.99'))\n",
      "('FLIGHT LIES', Decimal('4.99'))\n",
      "('FLINTSTONES HAPPINESS', Decimal('4.99'))\n",
      "('FOOL MOCKINGBIRD', Decimal('4.99'))\n",
      "('FORRESTER COMANCHEROS', Decimal('4.99'))\n",
      "('FREDDY STORM', Decimal('4.99'))\n",
      "('FRENCH HOLIDAY', Decimal('4.99'))\n",
      "('FRISCO FORREST', Decimal('4.99'))\n",
      "('FRONTIER CABIN', Decimal('4.99'))\n",
      "('FUGITIVE MAGUIRE', Decimal('4.99'))\n",
      "('GALAXY SWEETHEARTS', Decimal('4.99'))\n",
      "('GAMES BOWFINGER', Decimal('4.99'))\n",
      "('GARDEN ISLAND', Decimal('4.99'))\n",
      "('GHOST GROUNDHOG', Decimal('4.99'))\n",
      "('GLADIATOR WESTWARD', Decimal('4.99'))\n",
      "('GOLD RIVER', Decimal('4.99'))\n",
      "('GOODFELLAS SALUTE', Decimal('4.99'))\n",
      "('GOSFORD DONNIE', Decimal('4.99'))\n",
      "('GRACELAND DYNAMITE', Decimal('4.99'))\n",
      "('GRINCH MASSAGE', Decimal('4.99'))\n",
      "('GROSSE WONDERFUL', Decimal('4.99'))\n",
      "('GROUNDHOG UNCUT', Decimal('4.99'))\n",
      "('GUMP DATE', Decimal('4.99'))\n",
      "('GUYS FALCON', Decimal('4.99'))\n",
      "('HALL CASSIDY', Decimal('4.99'))\n",
      "('HANGING DEEP', Decimal('4.99'))\n",
      "('HANOVER GALAXY', Decimal('4.99'))\n",
      "('HARRY IDAHO', Decimal('4.99'))\n",
      "('HAUNTED ANTITRUST', Decimal('4.99'))\n",
      "('HEAD STRANGER', Decimal('4.99'))\n",
      "('HEARTBREAKERS BRIGHT', Decimal('4.99'))\n",
      "('HEAVENLY GUN', Decimal('4.99'))\n",
      "('HEAVYWEIGHTS BEAST', Decimal('4.99'))\n",
      "('HOLES BRANNIGAN', Decimal('4.99'))\n",
      "('HOLIDAY GAMES', Decimal('4.99'))\n",
      "('HOLLOW JEOPARDY', Decimal('4.99'))\n",
      "('HOME PITY', Decimal('4.99'))\n",
      "('HOTEL HAPPINESS', Decimal('4.99'))\n",
      "('HUNCHBACK IMPOSSIBLE', Decimal('4.99'))\n",
      "('HUSTLER PARTY', Decimal('4.99'))\n",
      "('HYSTERICAL GRAIL', Decimal('4.99'))\n",
      "('IGBY MAKER', Decimal('4.99'))\n",
      "('IMPOSSIBLE PREJUDICE', Decimal('4.99'))\n",
      "('INCH JET', Decimal('4.99'))\n",
      "('INFORMER DOUBLE', Decimal('4.99'))\n",
      "('INNOCENT USUAL', Decimal('4.99'))\n",
      "('INTERVIEW LIAISONS', Decimal('4.99'))\n",
      "('INTOLERABLE INTENTIONS', Decimal('4.99'))\n",
      "('IRON MOON', Decimal('4.99'))\n",
      "('ISHTAR ROCKETEER', Decimal('4.99'))\n",
      "('ITALIAN AFRICAN', Decimal('4.99'))\n",
      "('JERSEY SASSY', Decimal('4.99'))\n",
      "('JET NEIGHBORS', Decimal('4.99'))\n",
      "('JINGLE SAGEBRUSH', Decimal('4.99'))\n",
      "('KING EVOLUTION', Decimal('4.99'))\n",
      "('KISS GLORY', Decimal('4.99'))\n",
      "('KISSING DOLLS', Decimal('4.99'))\n",
      "('LADY STAGE', Decimal('4.99'))\n",
      "('LAMBS CINCINATTI', Decimal('4.99'))\n",
      "('LAWLESS VISION', Decimal('4.99'))\n",
      "('LEAGUE HELLFIGHTERS', Decimal('4.99'))\n",
      "('LEGALLY SECRETARY', Decimal('4.99'))\n",
      "('LIAISONS SWEET', Decimal('4.99'))\n",
      "('LIES TREATMENT', Decimal('4.99'))\n",
      "('LOLA AGENT', Decimal('4.99'))\n",
      "('LOSER HUSTLER', Decimal('4.99'))\n",
      "('MADIGAN DORADO', Decimal('4.99'))\n",
      "('MAIDEN HOME', Decimal('4.99'))\n",
      "('MALTESE HOPE', Decimal('4.99'))\n",
      "('MASSACRE USUAL', Decimal('4.99'))\n",
      "('MATRIX SNOWMAN', Decimal('4.99'))\n",
      "('MEMENTO ZOOLANDER', Decimal('4.99'))\n",
      "('MERMAID INSECTS', Decimal('4.99'))\n",
      "('MIDSUMMER GROUNDHOG', Decimal('4.99'))\n",
      "('MILLION ACE', Decimal('4.99'))\n",
      "('MINDS TRUMAN', Decimal('4.99'))\n",
      "('MINE TITANS', Decimal('4.99'))\n",
      "('MISSION ZOOLANDER', Decimal('4.99'))\n",
      "('MOD SECRETARY', Decimal('4.99'))\n",
      "('MODEL FISH', Decimal('4.99'))\n",
      "('MONSOON CAUSE', Decimal('4.99'))\n",
      "('MOONSHINE CABIN', Decimal('4.99'))\n",
      "('MOONWALKER FOOL', Decimal('4.99'))\n",
      "('MOVIE SHAKESPEARE', Decimal('4.99'))\n",
      "('MUPPET MILE', Decimal('4.99'))\n",
      "('MUSKETEERS WAIT', Decimal('4.99'))\n",
      "('NAME DETECTIVE', Decimal('4.99'))\n",
      "('NIGHTMARE CHILL', Decimal('4.99'))\n",
      "('NORTH TEQUILA', Decimal('4.99'))\n",
      "('NUTS TIES', Decimal('4.99'))\n",
      "('OCTOBER SUBMARINE', Decimal('4.99'))\n",
      "('OPEN AFRICAN', Decimal('4.99'))\n",
      "('OPPOSITE NECKLACE', Decimal('4.99'))\n",
      "('OPUS ICE', Decimal('4.99'))\n",
      "('OUTLAW HANKY', Decimal('4.99'))\n",
      "('PANIC CLUB', Decimal('4.99'))\n",
      "('PANKY SUBMARINE', Decimal('4.99'))\n",
      "('PANTHER REDS', Decimal('4.99'))\n",
      "('PARK CITIZEN', Decimal('4.99'))\n",
      "('PAST SUICIDES', Decimal('4.99'))\n",
      "('PATHS CONTROL', Decimal('4.99'))\n",
      "('PAYCHECK WAIT', Decimal('4.99'))\n",
      "('PEAK FOREVER', Decimal('4.99'))\n",
      "('PELICAN COMFORTS', Decimal('4.99'))\n",
      "('PERDITION FARGO', Decimal('4.99'))\n",
      "('PHILADELPHIA WIFE', Decimal('4.99'))\n",
      "('PINOCCHIO SIMON', Decimal('4.99'))\n",
      "('PITTSBURGH HUNCHBACK', Decimal('4.99'))\n",
      "('PITY BOUND', Decimal('4.99'))\n",
      "('PLATOON INSTINCT', Decimal('4.99'))\n",
      "('PLUTO OLEANDER', Decimal('4.99'))\n",
      "('POSEIDON FOREVER', Decimal('4.99'))\n",
      "('PREJUDICE OLEANDER', Decimal('4.99'))\n",
      "('PRESIDENT BANG', Decimal('4.99'))\n",
      "('PRIVATE DROP', Decimal('4.99'))\n",
      "('PUNK DIVORCE', Decimal('4.99'))\n",
      "('QUEEN LUKE', Decimal('4.99'))\n",
      "('QUILLS BULL', Decimal('4.99'))\n",
      "('RAGE GAMES', Decimal('4.99'))\n",
      "('RAGING AIRPLANE', Decimal('4.99'))\n",
      "('RAINBOW SHOCK', Decimal('4.99'))\n",
      "('RANGE MOONWALKER', Decimal('4.99'))\n",
      "('RECORDS ZORRO', Decimal('4.99'))\n",
      "('REDS POCUS', Decimal('4.99'))\n",
      "('REQUIEM TYCOON', Decimal('4.99'))\n",
      "('RIGHT CRANES', Decimal('4.99'))\n",
      "('ROAD ROXANNE', Decimal('4.99'))\n",
      "('ROCKY WAR', Decimal('4.99'))\n",
      "('ROSES TREASURE', Decimal('4.99'))\n",
      "('RULES HUMAN', Decimal('4.99'))\n",
      "('SABRINA MIDNIGHT', Decimal('4.99'))\n",
      "('SATISFACTION CONFIDENTIAL', Decimal('4.99'))\n",
      "('SATURDAY LAMBS', Decimal('4.99'))\n",
      "('SATURN NAME', Decimal('4.99'))\n",
      "('SCALAWAG DUCK', Decimal('4.99'))\n",
      "('SCARFACE BANG', Decimal('4.99'))\n",
      "('SCHOOL JACKET', Decimal('4.99'))\n",
      "('SCORPION APOLLO', Decimal('4.99'))\n",
      "('SEATTLE EXPECATIONS', Decimal('4.99'))\n",
      "('SECRET GROUNDHOG', Decimal('4.99'))\n",
      "('SECRETARY ROUGE', Decimal('4.99'))\n",
      "('SECRETS PARADISE', Decimal('4.99'))\n",
      "('SENSE GREEK', Decimal('4.99'))\n",
      "('SENSIBILITY REAR', Decimal('4.99'))\n",
      "('SEVEN SWARM', Decimal('4.99'))\n",
      "('SHAWSHANK BUBBLE', Decimal('4.99'))\n",
      "('SHOW LORD', Decimal('4.99'))\n",
      "('SILVERADO GOLDFINGER', Decimal('4.99'))\n",
      "('SISTER FREDDY', Decimal('4.99'))\n",
      "('SLACKER LIAISONS', Decimal('4.99'))\n",
      "('SLEEPING SUSPECTS', Decimal('4.99'))\n",
      "('SLEEPLESS MONSOON', Decimal('4.99'))\n",
      "('SNATCH SLIPPER', Decimal('4.99'))\n",
      "('SOLDIERS EVOLUTION', Decimal('4.99'))\n",
      "('SOMETHING DUCK', Decimal('4.99'))\n",
      "('SPARTACUS CHEAPER', Decimal('4.99'))\n",
      "('SPEED SUIT', Decimal('4.99'))\n",
      "('SPICE SORORITY', Decimal('4.99'))\n",
      "('STAGECOACH ARMAGEDDON', Decimal('4.99'))\n",
      "('STEEL SANTA', Decimal('4.99'))\n",
      "('STEERS ARMAGEDDON', Decimal('4.99'))\n",
      "('STEPMOM DREAM', Decimal('4.99'))\n",
      "('STING PERSONAL', Decimal('4.99'))\n",
      "('STRANGER STRANGERS', Decimal('4.99'))\n",
      "('STRANGERS GRAFFITI', Decimal('4.99'))\n",
      "('STREETCAR INTENTIONS', Decimal('4.99'))\n",
      "('SUBMARINE BED', Decimal('4.99'))\n",
      "('SUGAR WONKA', Decimal('4.99'))\n",
      "('SUICIDES SILENCE', Decimal('4.99'))\n",
      "('SUIT WALLS', Decimal('4.99'))\n",
      "('SUNRISE LEAGUE', Decimal('4.99'))\n",
      "('SUPER WYOMING', Decimal('4.99'))\n",
      "('SWEDEN SHINING', Decimal('4.99'))\n",
      "('TEEN APOLLO', Decimal('4.99'))\n",
      "('TELEGRAPH VOYAGE', Decimal('4.99'))\n",
      "('TEMPLE ATTRACTION', Decimal('4.99'))\n",
      "('TEQUILA PAST', Decimal('4.99'))\n",
      "('TERMINATOR CLUB', Decimal('4.99'))\n",
      "('THIEF PELICAN', Decimal('4.99'))\n",
      "('THIN SAGEBRUSH', Decimal('4.99'))\n",
      "('TIES HUNGER', Decimal('4.99'))\n",
      "('TITANIC BOONDOCK', Decimal('4.99'))\n",
      "('TITANS JERK', Decimal('4.99'))\n",
      "('TORQUE BOUND', Decimal('4.99'))\n",
      "('TOURIST PELICAN', Decimal('4.99'))\n",
      "('TRADING PINOCCHIO', Decimal('4.99'))\n",
      "('TRAFFIC HOBBIT', Decimal('4.99'))\n",
      "('TRAIN BUNCH', Decimal('4.99'))\n",
      "('TRAINSPOTTING STRANGERS', Decimal('4.99'))\n",
      "('TRAP GUYS', Decimal('4.99'))\n",
      "('TRIP NEWTON', Decimal('4.99'))\n",
      "('TRUMAN CRAZY', Decimal('4.99'))\n",
      "('TWISTED PIRATES', Decimal('4.99'))\n",
      "('TYCOON GATHERING', Decimal('4.99'))\n",
      "('UNDEFEATED DALMATIONS', Decimal('4.99'))\n",
      "('USUAL UNTOUCHABLES', Decimal('4.99'))\n",
      "('VAMPIRE WHALE', Decimal('4.99'))\n",
      "('VANILLA DAY', Decimal('4.99'))\n",
      "('VELVET TERMINATOR', Decimal('4.99'))\n",
      "('VIDEOTAPE ARSENIC', Decimal('4.99'))\n",
      "('VILLAIN DESPERATE', Decimal('4.99'))\n",
      "('VIRGIN DAISY', Decimal('4.99'))\n",
      "('VIRTUAL SPOILERS', Decimal('4.99'))\n",
      "('VOLUME HOUSE', Decimal('4.99'))\n",
      "('WAKE JAWS', Decimal('4.99'))\n",
      "('WALLS ARTIST', Decimal('4.99'))\n",
      "('WANDA CHAMBER', Decimal('4.99'))\n",
      "('WAR NOTTING', Decimal('4.99'))\n",
      "('WASH HEAVENLY', Decimal('4.99'))\n",
      "('WATERFRONT DELIVERANCE', Decimal('4.99'))\n",
      "('WEREWOLF LOLA', Decimal('4.99'))\n",
      "('WEST LION', Decimal('4.99'))\n",
      "('WHALE BIKINI', Decimal('4.99'))\n",
      "('WHISPERER GIANT', Decimal('4.99'))\n",
      "('WIFE TURN', Decimal('4.99'))\n",
      "('WITCHES PANIC', Decimal('4.99'))\n",
      "('WIZARD COLDBLOODED', Decimal('4.99'))\n",
      "('WONDERLAND CHRISTMAS', Decimal('4.99'))\n",
      "('WORKING MICROCOSMOS', Decimal('4.99'))\n",
      "('WYOMING STORM', Decimal('4.99'))\n",
      "('YENTL IDAHO', Decimal('4.99'))\n",
      "('ZORRO ARK', Decimal('4.99'))\n"
     ]
    }
   ],
   "source": [
    "db('''\n",
    "SELECT \n",
    "    title, rental_rate\n",
    "FROM\n",
    "    film\n",
    "WHERE\n",
    "    rental_rate > @avg_rate + @stddev_rate;\n",
    "''')"
   ]
  },
  {
   "cell_type": "markdown",
   "metadata": {},
   "source": [
    "### Vamos praticar"
   ]
  },
  {
   "cell_type": "markdown",
   "metadata": {},
   "source": [
    "Use variáveis temporárias para encontrar o ator que mais participou de filmes."
   ]
  },
  {
   "cell_type": "code",
   "execution_count": 22,
   "metadata": {
    "tags": []
   },
   "outputs": [
    {
     "name": "stdout",
     "output_type": "stream",
     "text": [
      "Executando query:\n",
      "Executando query:\n",
      "('GINA DEGENERES',)\n"
     ]
    }
   ],
   "source": [
    "db(\"SELECT MAX(temp.cnt) INTO @max_count FROM (SELECT COUNT(film_id) AS cnt FROM film_actor GROUP BY actor_id) AS temp \")\n",
    "db(\"SELECT CONCAT(first_name, ' ', last_name) FROM actor INNER JOIN film_actor USING (actor_id) GROUP BY actor_id HAVING COUNT(film_id) = @max_count\")"
   ]
  },
  {
   "cell_type": "markdown",
   "metadata": {},
   "source": [
    "Verifique quantas vezes o filme \"COWBOY DOOM\" foi alugado usando a view `movie_count`"
   ]
  },
  {
   "cell_type": "code",
   "execution_count": 23,
   "metadata": {
    "tags": []
   },
   "outputs": [
    {
     "name": "stdout",
     "output_type": "stream",
     "text": [
      "Executando query:\n",
      "('COWBOY DOOM', 10)\n"
     ]
    }
   ],
   "source": [
    "db(\"SELECT * FROM movie_count WHERE title LIKE 'COWBOY DOOM'\")"
   ]
  },
  {
   "cell_type": "markdown",
   "metadata": {},
   "source": [
    "Registre um aluguel do filme \"COWBOY DOOM\", feito pelo funcionario \"Jon Stephens\" na loja id=1 para o cliente \"JESSIE BANKS\", na data '2019-01-01', com data de retorno '2019-01-08'"
   ]
  },
  {
   "cell_type": "code",
   "execution_count": 24,
   "metadata": {
    "tags": []
   },
   "outputs": [
    {
     "name": "stdout",
     "output_type": "stream",
     "text": [
      "Executando query:\n",
      "Executando query:\n",
      "Executando query:\n",
      "Executando query:\n",
      "Executando query:\n"
     ]
    }
   ],
   "source": [
    "db(\"SELECT film_id INTO @film_id FROM film WHERE title LIKE 'COWBOY DOOM'\")\n",
    "db(\"SELECT customer_id INTO @customer_id FROM customer WHERE first_name LIKE 'JESSIE' AND last_name LIKE 'BANKS'\")\n",
    "db(\"SELECT staff_id INTO @staff_id FROM staff WHERE first_name LIKE 'JON' AND last_name LIKE 'STEPHENS'\")\n",
    "db(\"INSERT INTO inventory (film_id, store_id, last_update) VALUES (@film_id, 1, CURRENT_TIME())\") \n",
    "db(\"INSERT INTO rental (rental_date, inventory_id, customer_id, return_date, staff_id, last_update) VALUES ('2019-01-01', LAST_INSERT_ID(), @customer_id, '2019-01-08', @staff_id, CURRENT_TIME())\")"
   ]
  },
  {
   "cell_type": "markdown",
   "metadata": {},
   "source": [
    "Verifique usando a view que a contagem de alugueis do filme subiu."
   ]
  },
  {
   "cell_type": "code",
   "execution_count": 25,
   "metadata": {
    "tags": []
   },
   "outputs": [
    {
     "name": "stdout",
     "output_type": "stream",
     "text": [
      "Executando query:\n",
      "('COWBOY DOOM', 11)\n"
     ]
    }
   ],
   "source": [
    "db(\"SELECT title, cnt FROM movie_count WHERE title LIKE 'COWBOY DOOM'\")"
   ]
  },
  {
   "cell_type": "markdown",
   "metadata": {},
   "source": [
    "## Operador `IN`"
   ]
  },
  {
   "cell_type": "markdown",
   "metadata": {},
   "source": [
    "Suponha que desejamos listar todos os filmes dos 3 atores mais populares. Podemos começar listando os 3 atores mais populares:"
   ]
  },
  {
   "cell_type": "code",
   "execution_count": 26,
   "metadata": {
    "tags": []
   },
   "outputs": [
    {
     "name": "stdout",
     "output_type": "stream",
     "text": [
      "Executando query:\n",
      "(107, 'GINA', 'DEGENERES', 42)\n",
      "(102, 'WALTER', 'TORN', 41)\n",
      "(198, 'MARY', 'KEITEL', 40)\n"
     ]
    }
   ],
   "source": [
    "db('''\n",
    "SELECT \n",
    "    actor_id, first_name, last_name, COUNT(film_id) AS num_films\n",
    "FROM\n",
    "    actor\n",
    "    INNER JOIN film_actor USING (actor_id)\n",
    "GROUP BY \n",
    "    actor_id\n",
    "ORDER BY \n",
    "    num_films DESC\n",
    "LIMIT 3\n",
    "''')"
   ]
  },
  {
   "cell_type": "markdown",
   "metadata": {},
   "source": [
    "Vamos criar uma tabela temporária para guardar a informação de `actor_id` desses atores:"
   ]
  },
  {
   "cell_type": "code",
   "execution_count": 27,
   "metadata": {
    "tags": []
   },
   "outputs": [
    {
     "name": "stdout",
     "output_type": "stream",
     "text": [
      "Executando query:\n",
      "Executando query:\n",
      "Executando query:\n",
      "('GINA', 'DEGENERES', 107)\n",
      "('WALTER', 'TORN', 102)\n",
      "('MARY', 'KEITEL', 198)\n"
     ]
    }
   ],
   "source": [
    "db('DROP TABLE IF EXISTS temp_pop_actors')\n",
    "db('''\n",
    "CREATE TEMPORARY TABLE temp_pop_actors\n",
    "SELECT first_name, last_name, actor_id FROM\n",
    "    actor\n",
    "    INNER JOIN film_actor USING (actor_id)\n",
    "GROUP BY \n",
    "    actor_id\n",
    "ORDER BY \n",
    "    COUNT(film_id) DESC\n",
    "LIMIT 3\n",
    "''')\n",
    "db('''\n",
    "SELECT * from temp_pop_actors\n",
    "''')"
   ]
  },
  {
   "cell_type": "markdown",
   "metadata": {},
   "source": [
    "Por fim, vamos usar essa informação para listar os filmes dos atores populares:"
   ]
  },
  {
   "cell_type": "code",
   "execution_count": 28,
   "metadata": {
    "tags": []
   },
   "outputs": [
    {
     "name": "stdout",
     "output_type": "stream",
     "text": [
      "Executando query:\n",
      "('BED HIGHBALL',)\n",
      "('CALENDAR GUNFIGHT',)\n",
      "('CHAMBER ITALIAN',)\n",
      "('CHAPLIN LICENSE',)\n",
      "('CHARIOTS CONSPIRACY',)\n",
      "('CLUELESS BUCKET',)\n",
      "('COLDBLOODED DARLING',)\n",
      "('CONEHEADS SMOOCHY',)\n",
      "('DARKNESS WAR',)\n",
      "('DEER VIRGINIAN',)\n",
      "('DOGMA FAMILY',)\n",
      "('ELEPHANT TROJAN',)\n",
      "('EXCITEMENT EVE',)\n",
      "('FRISCO FORREST',)\n",
      "('GANDHI KWAI',)\n",
      "('GOODFELLAS SALUTE',)\n",
      "('GUNFIGHT MOON',)\n",
      "('HALL CASSIDY',)\n",
      "('HEARTBREAKERS BRIGHT',)\n",
      "('HOOK CHARIOTS',)\n",
      "('HYDE DOCTOR',)\n",
      "('IMPACT ALADDIN',)\n",
      "('INDIAN LOVE',)\n",
      "('INTRIGUE WORST',)\n",
      "('LICENSE WEEKEND',)\n",
      "('LOUISIANA HARRY',)\n",
      "('MAGNIFICENT CHITTY',)\n",
      "('METAL ARMAGEDDON',)\n",
      "('MIDNIGHT WESTWARD',)\n",
      "('MOVIE SHAKESPEARE',)\n",
      "('MUMMY CREATURES',)\n",
      "('OPEN AFRICAN',)\n",
      "('SEARCHERS WAIT',)\n",
      "('SEVEN SWARM',)\n",
      "('SIERRA DIVIDE',)\n",
      "('SPIRITED CASUALTIES',)\n",
      "('STORM HAPPINESS',)\n",
      "('SUGAR WONKA',)\n",
      "('TELEGRAPH VOYAGE',)\n",
      "('TRAINSPOTTING STRANGERS',)\n",
      "('WIFE TURN',)\n",
      "('WINDOW SIDE',)\n",
      "('AMELIE HELLFIGHTERS',)\n",
      "('ARABIA DOGMA',)\n",
      "('BANG KWAI',)\n",
      "('CASABLANCA SUPER',)\n",
      "('CASPER DRAGONFLY',)\n",
      "('CROW GREASE',)\n",
      "('CURTAIN VIDEOTAPE',)\n",
      "('DANCES NONE',)\n",
      "('EARLY HOME',)\n",
      "('FLYING HOOK',)\n",
      "('FORREST SONS',)\n",
      "('FREDDY STORM',)\n",
      "('GASLIGHT CRUSADE',)\n",
      "('HOBBIT ALIEN',)\n",
      "('HOOSIERS BIRDCAGE',)\n",
      "('HYSTERICAL GRAIL',)\n",
      "('JERSEY SASSY',)\n",
      "('LAMBS CINCINATTI',)\n",
      "('LESSON CLEOPATRA',)\n",
      "('LIES TREATMENT',)\n",
      "('LOCK REAR',)\n",
      "('LONELY ELEPHANT',)\n",
      "('MADISON TRAP',)\n",
      "('MOTIONS DETAILS',)\n",
      "('MULHOLLAND BEAST',)\n",
      "('NIGHTMARE CHILL',)\n",
      "('NOVOCAINE FLIGHT',)\n",
      "('RAIDERS ANTITRUST',)\n",
      "('REUNION WITCHES',)\n",
      "('ROOTS REMEMBER',)\n",
      "('SKY MIRACLE',)\n",
      "('SLUMS DUCK',)\n",
      "('SPIKING ELEMENT',)\n",
      "('STAGE WORLD',)\n",
      "('STEPMOM DREAM',)\n",
      "('STRANGELOVE DESIRE',)\n",
      "('WARDROBE PHANTOM',)\n",
      "('WITCHES PANIC',)\n",
      "('WIZARD COLDBLOODED',)\n",
      "('ACADEMY DINOSAUR',)\n",
      "('BUTTERFLY CHOCOLAT',)\n",
      "('CASSIDY WYOMING',)\n",
      "('CRAFT OUTFIELD',)\n",
      "('DUMBO LUST',)\n",
      "('DWARFS ALTER',)\n",
      "('FANTASY TROOPERS',)\n",
      "('FEUD FROGMEN',)\n",
      "('FICTION CHRISTMAS',)\n",
      "('GAMES BOWFINGER',)\n",
      "('GREEDY ROOTS',)\n",
      "('HANDICAP BOONDOCK',)\n",
      "('HAUNTING PIANIST',)\n",
      "('IDOLS SNATCHERS',)\n",
      "('INTENTIONS EMPIRE',)\n",
      "('JEOPARDY ENCINO',)\n",
      "('KING EVOLUTION',)\n",
      "('LOVELY JINGLE',)\n",
      "('LUKE MUMMY',)\n",
      "('MADNESS ATTACKS',)\n",
      "('MALLRATS UNITED',)\n",
      "('MEMENTO ZOOLANDER',)\n",
      "('MERMAID INSECTS',)\n",
      "('MODEL FISH',)\n",
      "('MOONWALKER FOOL',)\n",
      "('NORTHWEST POLISH',)\n",
      "('ROSES TREASURE',)\n",
      "('SAINTS BRIDE',)\n",
      "('SLEEPY JAPANESE',)\n",
      "('SOLDIERS EVOLUTION',)\n",
      "('STEEL SANTA',)\n",
      "('SUBMARINE BED',)\n",
      "('SWEDEN SHINING',)\n",
      "('THEORY MERMAID',)\n",
      "('TITANIC BOONDOCK',)\n",
      "('UNFORGIVEN ZOOLANDER',)\n",
      "('WAGON JAWS',)\n",
      "('YOUTH KICK',)\n"
     ]
    }
   ],
   "source": [
    "db('''\n",
    "SELECT DISTINCT\n",
    "    title\n",
    "FROM\n",
    "    film\n",
    "    INNER JOIN film_actor USING (film_id)\n",
    "WHERE\n",
    "    actor_id IN (SELECT actor_id FROM temp_pop_actors);\n",
    "''')"
   ]
  },
  {
   "cell_type": "markdown",
   "metadata": {},
   "source": [
    "Note o uso de *subqueries*!\n",
    "\n",
    "Não se esqueça de limpar tudo no final!"
   ]
  },
  {
   "cell_type": "code",
   "execution_count": 29,
   "metadata": {
    "tags": []
   },
   "outputs": [
    {
     "name": "stdout",
     "output_type": "stream",
     "text": [
      "Executando query:\n"
     ]
    }
   ],
   "source": [
    "db('DROP TABLE temp_pop_actors')"
   ]
  },
  {
   "cell_type": "markdown",
   "metadata": {},
   "source": [
    "### Vamos praticar"
   ]
  },
  {
   "cell_type": "markdown",
   "metadata": {},
   "source": [
    "Liste os atores que participaram dos 3 filmes mais rentáveis (aqueles que mais geraram receita para a locadora)."
   ]
  },
  {
   "cell_type": "code",
   "execution_count": 30,
   "metadata": {
    "tags": []
   },
   "outputs": [
    {
     "name": "stdout",
     "output_type": "stream",
     "text": [
      "Executando query:\n",
      "Executando query:\n",
      "Executando query:\n",
      "('WOODY HOFFMAN',)\n",
      "('CARMEN HUNT',)\n",
      "('GINA DEGENERES',)\n",
      "('LUCILLE DEE',)\n",
      "('VIVIEN BASINGER',)\n",
      "('MICHAEL BENING',)\n",
      "('THORA TEMPLE',)\n",
      "('JULIA BARRYMORE',)\n",
      "('CAMERON ZELLWEGER',)\n",
      "('GRETA MALDEN',)\n",
      "('MICHAEL BOLGER',)\n",
      "('IAN TANDY',)\n",
      "('NICK DEGENERES',)\n",
      "('LISA MONROE',)\n",
      "Executando query:\n"
     ]
    }
   ],
   "source": [
    "db('DROP TABLE IF EXISTS temp_top3_movies')\n",
    "db(\"CREATE TEMPORARY TABLE temp_top3_movies SELECT film.film_id, SUM(payment.amount) FROM film INNER JOIN inventory USING (film_id) INNER JOIN rental USING (inventory_id) INNER JOIN payment USING (rental_id) WHERE payment_date IS NOT NULL GROUP BY film_id ORDER BY SUM(payment.amount) DESC LIMIT 3\")\n",
    "db(\"SELECT DISTINCT CONCAT(first_name, ' ', last_name) FROM actor INNER JOIN film_actor USING(actor_id) INNER JOIN film USING(film_id) WHERE film_id IN (SELECT film_id FROM temp_top3_movies)\")\n",
    "db('DROP TABLE temp_top3_movies')"
   ]
  },
  {
   "cell_type": "markdown",
   "metadata": {},
   "source": [
    "## Subqueries"
   ]
  },
  {
   "cell_type": "markdown",
   "metadata": {},
   "source": [
    "Os tópicos discutidos acima poderiam ser resolvidos, em grande parte, com subqueries. As subqueries são queries `SELECT` criadas dentro de outras queries. \n",
    "\n",
    "Poderíamos ter usado subqueries nos mesmos lugares onde usamos tabelas temporárias, nos tópicos acima. Quando a subquery pode ser transformada em uma tabela temporária independente, separada da query exterior, dizemos que a subquery é **não-correlacionada** com a query exterior.\n",
    "\n",
    "Usar subqueries não-correlacionadas é um tópico controverso: podemos sempre usar uma tabela temporária ou, ás vezes, pensar em um `JOIN` simples. Aliás, muitas vezes o otimizador de queries do banco de dados transformará a subquery em `JOIN`, se isso for vantajoso em termos de desempenho.\n",
    "\n",
    "Uma subquery que depende da query externa (e portanto não pode ser separada em uma tabela temporária independente) é chamada de **subquery correlacionada**. Nestes casos podemos ter que executar a subquery para cada linha da query exterior! "
   ]
  },
  {
   "cell_type": "markdown",
   "metadata": {},
   "source": [
    "### Vamos praticar"
   ]
  },
  {
   "cell_type": "markdown",
   "metadata": {},
   "source": [
    "Vamos refazer a atividade dos filmes de atores populares, usando subqueries. \n",
    "\n",
    "Temos um problema: o MySQL não suporta ``LIMIT`` em subqueries com o operador ``IN``. Vamos investigar isso mais de perto. \n",
    "\n",
    "Em primeiro lugar faça uma tradução direta da implementação da atividade anterior trocando tabela temporária por subquery."
   ]
  },
  {
   "cell_type": "code",
   "execution_count": 31,
   "metadata": {
    "scrolled": true,
    "tags": []
   },
   "outputs": [
    {
     "name": "stdout",
     "output_type": "stream",
     "text": [
      "Executando query:\n",
      "ProgrammingError: 1235 (42000): This version of MySQL doesn't yet support 'LIMIT & IN/ALL/ANY/SOME subquery'\n"
     ]
    }
   ],
   "source": [
    "try:\n",
    "    db('''\n",
    "    SELECT \n",
    "        actor_id, first_name, last_name\n",
    "    FROM\n",
    "        actor\n",
    "        INNER JOIN film_actor USING (actor_id)\n",
    "    WHERE\n",
    "        film_actor.film_id IN (\n",
    "            SELECT \n",
    "                film_id\n",
    "            FROM\n",
    "                film\n",
    "                INNER JOIN inventory USING (film_id)\n",
    "                INNER JOIN rental USING (inventory_id)\n",
    "                INNER JOIN payment USING (rental_id)\n",
    "            WHERE\n",
    "                payment_date IS NOT NULL\n",
    "            GROUP BY film_id\n",
    "            ORDER BY SUM(amount)\n",
    "            LIMIT 3)\n",
    "    ORDER BY actor_id\n",
    "    ''')\n",
    "except mysql.connector.ProgrammingError as e:\n",
    "    print(f'ProgrammingError: {e}')"
   ]
  },
  {
   "cell_type": "markdown",
   "metadata": {},
   "source": [
    "Ok, apareceu o problema. Mas considere que o problema original não precisava de IN desde o começo! Construa essa solução."
   ]
  },
  {
   "cell_type": "code",
   "execution_count": 32,
   "metadata": {
    "tags": []
   },
   "outputs": [
    {
     "name": "stdout",
     "output_type": "stream",
     "text": [
      "Executando query:\n",
      "(28, 'WOODY', 'HOFFMAN')\n",
      "(47, 'JULIA', 'BARRYMORE')\n",
      "(52, 'CARMEN', 'HUNT')\n",
      "(107, 'GINA', 'DEGENERES')\n",
      "(111, 'CAMERON', 'ZELLWEGER')\n",
      "(138, 'LUCILLE', 'DEE')\n",
      "(155, 'IAN', 'TANDY')\n",
      "(157, 'GRETA', 'MALDEN')\n",
      "(158, 'VIVIEN', 'BASINGER')\n",
      "(166, 'NICK', 'DEGENERES')\n",
      "(174, 'MICHAEL', 'BENING')\n",
      "(178, 'LISA', 'MONROE')\n",
      "(185, 'MICHAEL', 'BOLGER')\n",
      "(200, 'THORA', 'TEMPLE')\n"
     ]
    }
   ],
   "source": [
    "db('''\n",
    "    SELECT \n",
    "        DISTINCT actor_id, first_name, last_name\n",
    "    FROM\n",
    "        (SELECT \n",
    "            film_id\n",
    "        FROM\n",
    "            film\n",
    "            INNER JOIN inventory USING (film_id)\n",
    "            INNER JOIN rental USING (inventory_id)\n",
    "            INNER JOIN payment USING (rental_id)\n",
    "        WHERE\n",
    "            payment_date IS NOT NULL\n",
    "        GROUP BY film_id\n",
    "        ORDER BY SUM(amount) DESC\n",
    "        LIMIT 3) AS top_movies\n",
    "    INNER JOIN film_actor USING (film_id)\n",
    "    INNER JOIN actor USING (actor_id)\n",
    "    ORDER BY actor_id\n",
    "    ''')"
   ]
  },
  {
   "cell_type": "markdown",
   "metadata": {},
   "source": [
    "# `UNION`\n",
    "\n",
    "Quando duas tabelas tem **EXATAMENTE** as mesmas colunas, podemos concatená-las e formar uma grande tabela unificada usando o operador `UNION`. Por exemplo: suponha que desejamos montar uma lista dos nomes e sobrenomes de todos os clientes E de todos os funcionários. Eis uma solução possível:"
   ]
  },
  {
   "cell_type": "code",
   "execution_count": 40,
   "metadata": {
    "tags": []
   },
   "outputs": [
    {
     "name": "stdout",
     "output_type": "stream",
     "text": [
      "Executando query:\n",
      "Executando query:\n"
     ]
    }
   ],
   "source": [
    "db('DROP TABLE IF EXISTS nomes_clientes')\n",
    "db('CREATE TEMPORARY TABLE nomes_clientes SELECT first_name, last_name FROM customer')"
   ]
  },
  {
   "cell_type": "code",
   "execution_count": 41,
   "metadata": {
    "tags": []
   },
   "outputs": [
    {
     "name": "stdout",
     "output_type": "stream",
     "text": [
      "Executando query:\n",
      "('first_name', 'varchar(45)', 'NO', '', None, 'NULL')\n",
      "('last_name', 'varchar(45)', 'NO', '', None, 'NULL')\n",
      "Executando query:\n",
      "('MARY', 'SMITH')\n",
      "('PATRICIA', 'JOHNSON')\n",
      "('LINDA', 'WILLIAMS')\n",
      "('BARBARA', 'JONES')\n",
      "('ELIZABETH', 'BROWN')\n"
     ]
    }
   ],
   "source": [
    "db('DESCRIBE nomes_clientes')\n",
    "db('SELECT * FROM nomes_clientes LIMIT 5')"
   ]
  },
  {
   "cell_type": "code",
   "execution_count": 42,
   "metadata": {
    "tags": []
   },
   "outputs": [
    {
     "name": "stdout",
     "output_type": "stream",
     "text": [
      "Executando query:\n",
      "Executando query:\n"
     ]
    }
   ],
   "source": [
    "db('DROP TABLE IF EXISTS nomes_staff')\n",
    "db('CREATE TEMPORARY TABLE nomes_staff SELECT first_name, last_name FROM staff')"
   ]
  },
  {
   "cell_type": "code",
   "execution_count": 43,
   "metadata": {
    "tags": []
   },
   "outputs": [
    {
     "name": "stdout",
     "output_type": "stream",
     "text": [
      "Executando query:\n",
      "('first_name', 'varchar(45)', 'NO', '', None, 'NULL')\n",
      "('last_name', 'varchar(45)', 'NO', '', None, 'NULL')\n",
      "Executando query:\n",
      "('Mike', 'Hillyer')\n",
      "('Jon', 'Stephens')\n"
     ]
    }
   ],
   "source": [
    "db('DESCRIBE nomes_staff')\n",
    "db('SELECT * FROM nomes_staff LIMIT 5')"
   ]
  },
  {
   "cell_type": "code",
   "execution_count": 44,
   "metadata": {
    "tags": []
   },
   "outputs": [
    {
     "name": "stdout",
     "output_type": "stream",
     "text": [
      "Executando query:\n",
      "Executando query:\n"
     ]
    }
   ],
   "source": [
    "db('DROP TABLE IF EXISTS nomes_all')\n",
    "db('CREATE TEMPORARY TABLE nomes_all (SELECT * FROM nomes_staff) UNION (SELECT * FROM nomes_clientes)')"
   ]
  },
  {
   "cell_type": "code",
   "execution_count": 45,
   "metadata": {
    "tags": []
   },
   "outputs": [
    {
     "name": "stdout",
     "output_type": "stream",
     "text": [
      "Executando query:\n",
      "('first_name', 'varchar(45)', 'NO', '', '', 'NULL')\n",
      "('last_name', 'varchar(45)', 'NO', '', '', 'NULL')\n",
      "Executando query:\n",
      "('Mike', 'Hillyer')\n",
      "('Jon', 'Stephens')\n",
      "('MARY', 'SMITH')\n",
      "('PATRICIA', 'JOHNSON')\n",
      "('LINDA', 'WILLIAMS')\n"
     ]
    }
   ],
   "source": [
    "db('DESCRIBE nomes_all')\n",
    "db('SELECT * FROM nomes_all LIMIT 5')"
   ]
  },
  {
   "cell_type": "code",
   "execution_count": 46,
   "metadata": {
    "tags": []
   },
   "outputs": [
    {
     "name": "stdout",
     "output_type": "stream",
     "text": [
      "Executando query:\n",
      "Executando query:\n",
      "Executando query:\n"
     ]
    }
   ],
   "source": [
    "db('DROP TABLE nomes_clientes')\n",
    "db('DROP TABLE nomes_staff')\n",
    "db('DROP TABLE nomes_all')"
   ]
  },
  {
   "cell_type": "markdown",
   "metadata": {},
   "source": [
    "**Vamos praticar:** refaça o exemplo acima mas use *subqueries* ao invés de *temp tables*."
   ]
  },
  {
   "cell_type": "code",
   "execution_count": 47,
   "metadata": {
    "tags": []
   },
   "outputs": [
    {
     "name": "stdout",
     "output_type": "stream",
     "text": [
      "Executando query:\n",
      "('Mike', 'Hillyer')\n",
      "('Jon', 'Stephens')\n",
      "('MARY', 'SMITH')\n",
      "('PATRICIA', 'JOHNSON')\n",
      "('LINDA', 'WILLIAMS')\n"
     ]
    }
   ],
   "source": [
    "db(\"SELECT * FROM (SELECT first_name, last_name FROM staff UNION SELECT first_name, last_name FROM customer) AS all_names LIMIT 5\")"
   ]
  },
  {
   "cell_type": "markdown",
   "metadata": {},
   "source": [
    "## Desafios!"
   ]
  },
  {
   "cell_type": "markdown",
   "metadata": {},
   "source": [
    "Faça uma lista de filmes que tenham mais de dois atores cujo nome inicia com a mesma letra do título do filme!"
   ]
  },
  {
   "cell_type": "code",
   "execution_count": 86,
   "metadata": {
    "tags": []
   },
   "outputs": [
    {
     "name": "stdout",
     "output_type": "stream",
     "text": [
      "Executando query:\n",
      "('CAPER MOTIONS',)\n",
      "('CLUELESS BUCKET',)\n",
      "('CROOKED FROGMEN',)\n",
      "('CROW GREASE',)\n",
      "('CUPBOARD SINNERS',)\n",
      "('EVOLUTION ALTER',)\n",
      "('GABLES METROPOLIS',)\n",
      "('JAPANESE RUN',)\n",
      "('JAWBREAKER BROOKLYN',)\n",
      "('JEDI BENEATH',)\n",
      "('JUMANJI BLADE',)\n",
      "('LESSON CLEOPATRA',)\n",
      "('MADIGAN DORADO',)\n",
      "('MAKER GABLES',)\n",
      "('MALKOVICH PET',)\n",
      "('MIXED DOORS',)\n",
      "('MODEL FISH',)\n",
      "('MUSCLE BRIGHT',)\n",
      "('MUSIC BOONDOCK',)\n",
      "('RANGE MOONWALKER',)\n",
      "('SHAWSHANK BUBBLE',)\n",
      "('SIEGE MADRE',)\n",
      "('STAGECOACH ARMAGEDDON',)\n",
      "('STREAK RIDGEMONT',)\n",
      "('SUBMARINE BED',)\n",
      "('TARZAN VIDEOTAPE',)\n",
      "('WARDROBE PHANTOM',)\n",
      "('WISDOM WORKER',)\n"
     ]
    }
   ],
   "source": [
    "db(\"SELECT film.title FROM film INNER JOIN film_actor USING (film_id) INNER JOIN actor USING (actor_id) WHERE SUBSTRING(film.title, 1, 1) LIKE SUBSTRING(actor.first_name, 1, 1) GROUP BY film.film_id HAVING COUNT(film.film_id) >= 2 ORDER BY film.title ASC\")"
   ]
  },
  {
   "cell_type": "markdown",
   "metadata": {},
   "source": [
    "Semana do \"DAN HARRIS\": liste os clientes que nunca assistiram um filme do ator \"DAN HARRIS\" ou que já assistiram mas onde a ultima vez em que assistiram um filme dele foi antes de '2005-06-01'"
   ]
  },
  {
   "cell_type": "code",
   "execution_count": 87,
   "metadata": {
    "tags": []
   },
   "outputs": [
    {
     "name": "stdout",
     "output_type": "stream",
     "text": [
      "Executando query:\n",
      "(557,)\n"
     ]
    }
   ],
   "source": [
    "db('''\n",
    "    SELECT\n",
    "        COUNT(DISTINCT customer_id)\n",
    "    FROM\n",
    "        rental\n",
    "        INNER JOIN inventory USING (inventory_id)\n",
    "    WHERE\n",
    "        customer_id IN\n",
    "            (SELECT \n",
    "                DISTINCT customer_id\n",
    "            FROM\n",
    "                rental \n",
    "                INNER JOIN inventory USING (inventory_id)\n",
    "                INNER JOIN film USING (film_id)\n",
    "                INNER JOIN film_actor USING(film_id) \n",
    "                INNER JOIN actor USING (actor_id) \n",
    "            WHERE \n",
    "                actor.first_name LIKE 'DAN' \n",
    "            AND \n",
    "                actor.last_name LIKE 'HARRIS')\n",
    "        AND \n",
    "            rental_date < STR_TO_DATE('2005-06-01', '%Y-%m-%d')\n",
    "        OR\n",
    "            customer_id NOT IN\n",
    "                (SELECT \n",
    "                    DISTINCT customer_id\n",
    "                FROM\n",
    "                    rental \n",
    "                    INNER JOIN inventory USING (inventory_id)\n",
    "                    INNER JOIN film USING (film_id)\n",
    "                    INNER JOIN film_actor USING(film_id) \n",
    "                    INNER JOIN actor USING (actor_id) \n",
    "                WHERE \n",
    "                    actor.first_name LIKE 'DAN' \n",
    "                AND \n",
    "                    actor.last_name LIKE 'HARRIS')\n",
    "''')"
   ]
  },
  {
   "cell_type": "markdown",
   "metadata": {},
   "source": [
    "## Conclusão"
   ]
  },
  {
   "cell_type": "markdown",
   "metadata": {},
   "source": [
    "Façamos uma pausa para apreciar quão longe estamos: já conseguimos criar nossas tabelas, inserir informação, removê-la, atualizá-la, e consultar nossa base de maneiras bem sofisticadas! Vimos desde `SELECT` simples até buscas mais complexas envolvendo várias etapas de processamento para obter o dado desejado.\n",
    "\n",
    "Por hoje é só, feche sua conexão e bom descanso!"
   ]
  },
  {
   "cell_type": "code",
   "execution_count": 88,
   "metadata": {},
   "outputs": [],
   "source": [
    "connection.close()"
   ]
  },
  {
   "cell_type": "code",
   "execution_count": null,
   "metadata": {},
   "outputs": [],
   "source": []
  }
 ],
 "metadata": {
  "kernelspec": {
   "display_name": "Python 3",
   "language": "python",
   "name": "python3"
  },
  "language_info": {
   "codemirror_mode": {
    "name": "ipython",
    "version": 3
   },
   "file_extension": ".py",
   "mimetype": "text/x-python",
   "name": "python",
   "nbconvert_exporter": "python",
   "pygments_lexer": "ipython3",
   "version": "3.8.4"
  }
 },
 "nbformat": 4,
 "nbformat_minor": 4
}
